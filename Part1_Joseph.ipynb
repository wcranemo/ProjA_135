{
 "cells": [
  {
   "cell_type": "code",
   "execution_count": null,
   "metadata": {},
   "outputs": [],
   "source": [
    "# Import Dependencies\n",
    "import numpy as np\n",
    "import pandas as pd\n",
    "import sklearn\n",
    "import os "
   ]
  },
  {
   "cell_type": "code",
   "execution_count": 61,
   "metadata": {},
   "outputs": [
    {
     "name": "stdout",
     "output_type": "stream",
     "text": [
      "(2400,)\n"
     ]
    }
   ],
   "source": [
    "data_dir = 'data_reviews'\n",
    "x_train_df = pd.read_csv(os.path.join(data_dir, 'x_train.csv'))\n",
    "y_train_df = pd.read_csv(os.path.join(data_dir, 'y_train.csv'))\n",
    "\n",
    "tr_text_list = x_train_df['text'].values.tolist()\n",
    "\n",
    "# Flatten y_train to (n,) in order to supress scikit-learn warnings\n",
    "y_train_flat = y_train_df.values.ravel()\n",
    "print(y_train_flat.shape)"
   ]
  },
  {
   "cell_type": "markdown",
   "metadata": {},
   "source": [
    "<font size=\"10\">Preprocessing steps</font>"
   ]
  },
  {
   "cell_type": "code",
   "execution_count": 2,
   "metadata": {},
   "outputs": [
    {
     "name": "stdout",
     "output_type": "stream",
     "text": [
      "Collecting nltk\n",
      "  Downloading nltk-3.8.1-py3-none-any.whl (1.5 MB)\n",
      "\u001b[2K     \u001b[90m━━━━━━━━━━━━━━━━━━━━━━━━━━━━━━━━━━━━━━━━\u001b[0m \u001b[32m1.5/1.5 MB\u001b[0m \u001b[31m10.8 MB/s\u001b[0m eta \u001b[36m0:00:00\u001b[0ma \u001b[36m0:00:01\u001b[0mm\n",
      "\u001b[?25hCollecting click (from nltk)\n",
      "  Obtaining dependency information for click from https://files.pythonhosted.org/packages/00/2e/d53fa4befbf2cfa713304affc7ca780ce4fc1fd8710527771b58311a3229/click-8.1.7-py3-none-any.whl.metadata\n",
      "  Downloading click-8.1.7-py3-none-any.whl.metadata (3.0 kB)\n",
      "Requirement already satisfied: joblib in /home/joseph/micromamba/envs/cs135_env/lib/python3.10/site-packages (from nltk) (1.2.0)\n",
      "Collecting regex>=2021.8.3 (from nltk)\n",
      "  Obtaining dependency information for regex>=2021.8.3 from https://files.pythonhosted.org/packages/8f/3e/4b8b40eb3c80aeaf360f0361d956d129bb3d23b2a3ecbe3a04a8f3bdd6d3/regex-2023.10.3-cp310-cp310-manylinux_2_17_x86_64.manylinux2014_x86_64.whl.metadata\n",
      "  Downloading regex-2023.10.3-cp310-cp310-manylinux_2_17_x86_64.manylinux2014_x86_64.whl.metadata (40 kB)\n",
      "\u001b[2K     \u001b[90m━━━━━━━━━━━━━━━━━━━━━━━━━━━━━━━━━━━━━━━━\u001b[0m \u001b[32m40.9/40.9 kB\u001b[0m \u001b[31m2.8 MB/s\u001b[0m eta \u001b[36m0:00:00\u001b[0m\n",
      "\u001b[?25hCollecting tqdm (from nltk)\n",
      "  Obtaining dependency information for tqdm from https://files.pythonhosted.org/packages/00/e5/f12a80907d0884e6dff9c16d0c0114d81b8cd07dc3ae54c5e962cc83037e/tqdm-4.66.1-py3-none-any.whl.metadata\n",
      "  Downloading tqdm-4.66.1-py3-none-any.whl.metadata (57 kB)\n",
      "\u001b[2K     \u001b[90m━━━━━━━━━━━━━━━━━━━━━━━━━━━━━━━━━━━━━━━━\u001b[0m \u001b[32m57.6/57.6 kB\u001b[0m \u001b[31m3.4 MB/s\u001b[0m eta \u001b[36m0:00:00\u001b[0m\n",
      "\u001b[?25hDownloading regex-2023.10.3-cp310-cp310-manylinux_2_17_x86_64.manylinux2014_x86_64.whl (773 kB)\n",
      "\u001b[2K   \u001b[90m━━━━━━━━━━━━━━━━━━━━━━━━━━━━━━━━━━━━━━━━\u001b[0m \u001b[32m773.9/773.9 kB\u001b[0m \u001b[31m30.4 MB/s\u001b[0m eta \u001b[36m0:00:00\u001b[0m\n",
      "\u001b[?25hDownloading click-8.1.7-py3-none-any.whl (97 kB)\n",
      "\u001b[2K   \u001b[90m━━━━━━━━━━━━━━━━━━━━━━━━━━━━━━━━━━━━━━━━\u001b[0m \u001b[32m97.9/97.9 kB\u001b[0m \u001b[31m6.2 MB/s\u001b[0m eta \u001b[36m0:00:00\u001b[0m\n",
      "\u001b[?25hDownloading tqdm-4.66.1-py3-none-any.whl (78 kB)\n",
      "\u001b[2K   \u001b[90m━━━━━━━━━━━━━━━━━━━━━━━━━━━━━━━━━━━━━━━━\u001b[0m \u001b[32m78.3/78.3 kB\u001b[0m \u001b[31m6.0 MB/s\u001b[0m eta \u001b[36m0:00:00\u001b[0m\n",
      "\u001b[?25hInstalling collected packages: tqdm, regex, click, nltk\n",
      "Successfully installed click-8.1.7 nltk-3.8.1 regex-2023.10.3 tqdm-4.66.1\n"
     ]
    }
   ],
   "source": [
    "# !pip install nltk"
   ]
  },
  {
   "cell_type": "code",
   "execution_count": 39,
   "metadata": {},
   "outputs": [
    {
     "name": "stderr",
     "output_type": "stream",
     "text": [
      "[nltk_data] Downloading package stopwords to /home/joseph/nltk_data...\n",
      "[nltk_data]   Package stopwords is already up-to-date!\n",
      "[nltk_data] Downloading package punkt to /home/joseph/nltk_data...\n",
      "[nltk_data]   Package punkt is already up-to-date!\n"
     ]
    },
    {
     "data": {
      "text/plain": [
       "True"
      ]
     },
     "execution_count": 39,
     "metadata": {},
     "output_type": "execute_result"
    }
   ],
   "source": [
    "# Import Dependencies\n",
    "import nltk\n",
    "from nltk.tokenize import word_tokenize\n",
    "from nltk.stem import PorterStemmer\n",
    "from nltk.corpus import stopwords\n",
    "nltk.download('stopwords')\n",
    "nltk.download('punkt')"
   ]
  },
  {
   "cell_type": "code",
   "execution_count": 40,
   "metadata": {},
   "outputs": [],
   "source": [
    "def preprocess_basic(sentences):\n",
    "    ''' Basic Preprocessing Tokenizer that only removes punctuations and uppercases'''\n",
    "    preprocessed_sentences = []\n",
    "\n",
    "    for sentence in sentences:\n",
    "        # Tokenize the sentence\n",
    "        tokens = word_tokenize(sentence)\n",
    "\n",
    "        # Remove punctuations\n",
    "        filtered_tokens = [word.lower() for word in tokens if word.isalpha()]\n",
    "\n",
    "        # Join the tokens back into a single string\n",
    "        preprocessed_sentence = ' '.join(filtered_tokens)\n",
    "        preprocessed_sentences.append(preprocessed_sentence)\n",
    "\n",
    "    return preprocessed_sentences"
   ]
  },
  {
   "cell_type": "code",
   "execution_count": 42,
   "metadata": {},
   "outputs": [],
   "source": [
    "def preprocess_stopwords(sentences):\n",
    "    '''Basic Preprocessing Tokenizer that aslo removes stopwords'''\n",
    "    preprocessed_sentences = []\n",
    "    stop_words = set(stopwords.words('english'))\n",
    "    stemmer = PorterStemmer()\n",
    "\n",
    "    for sentence in sentences:\n",
    "        # Tokenize the sentence\n",
    "        tokens = word_tokenize(sentence)\n",
    "\n",
    "        # Remove stopwords and punctuation\n",
    "        filtered_tokens = [word for word in tokens if word.lower() not in stop_words and word.isalpha()]\n",
    "        \n",
    "        # Stemming (optional)\n",
    "        # stemmed_tokens = [stemmer.stem(word) for word in filtered_tokens]\n",
    "\n",
    "        # Join the tokens back into a single string\n",
    "        preprocessed_sentence = ' '.join(filtered_tokens)\n",
    "        preprocessed_sentences.append(preprocessed_sentence)\n",
    "\n",
    "    return preprocessed_sentences"
   ]
  },
  {
   "cell_type": "markdown",
   "metadata": {},
   "source": [
    "<font size='10'>(Basic Preprocessing) Evaluate # Folds for CV</font>"
   ]
  },
  {
   "cell_type": "code",
   "execution_count": 57,
   "metadata": {},
   "outputs": [],
   "source": [
    "# Import Dependencies\n",
    "from sklearn.feature_extraction.text import CountVectorizer\n",
    "from sklearn.linear_model import LogisticRegression\n",
    "from sklearn.model_selection import cross_val_score\n",
    "from sklearn.model_selection import train_test_split"
   ]
  },
  {
   "cell_type": "code",
   "execution_count": 62,
   "metadata": {},
   "outputs": [],
   "source": [
    "processed_reviews = preprocess_basic(tr_text_list)"
   ]
  },
  {
   "cell_type": "code",
   "execution_count": 63,
   "metadata": {},
   "outputs": [
    {
     "name": "stdout",
     "output_type": "stream",
     "text": [
      "Vocabulary:  {'oh': 2572, 'and': 126, 'forgot': 1528, 'to': 3856, 'also': 103, 'mention': 2360, 'the': 3783, 'weird': 4196, 'color': 704, 'effect': 1208, 'it': 2013, 'has': 1735, 'on': 2586, 'your': 4313, 'phone': 2753, 'that': 3781, 'one': 2588, 'did': 1027, 'work': 4270, 'either': 1217, 'waste': 4162, 'of': 2564, 'bucks': 470, 'product': 2900, 'is': 2010, 'useless': 4061, 'since': 3406, 'does': 1093, 'not': 2535, 'have': 1740, 'enough': 1261, 'charging': 613, 'current': 903, 'charge': 608, 'cellphones': 584, 'was': 4159, 'planning': 2781, 'use': 4057, 'with': 4249, 'none': 2525, 'three': 3819, 'sizes': 3421, 'they': 3799, 'sent': 3310, 'headset': 1751, 'would': 4285, 'stay': 3571, 'in': 1912, 'my': 2470, 'ears': 1184, 'worst': 4280, 'customer': 908, 'service': 3326, 'ngage': 2510, 'still': 3593, 'lacking': 2107, 'earbuds': 1175, 'always': 106, 'cuts': 915, 'out': 2622, 'makes': 2284, 'beep': 324, 'sound': 3502, 'then': 3794, 'says': 3238, 'signal': 3391, 'failed': 1373, 'only': 2592, 'very': 4096, 'disappointing': 1053, 'thing': 3802, 'there': 3796, 'no': 2517, 'speakerphone': 3522, 'disappointed': 1052, 'accessoryone': 22, 'basically': 295, 'bad': 265, 'choice': 653, 'disappoint': 1051, 'me': 2324, 'infra': 1943, 'red': 3042, 'port': 2828, 'irda': 2002, 'horrible': 1831, 'had': 1709, 'switch': 3704, 'times': 3847, 'feels': 1417, 'poorly': 2824, 'constructed': 787, 'menus': 2363, 'are': 175, 'difficult': 1033, 'navigate': 2487, 'buttons': 497, 'so': 3469, 'recessed': 3033, 'push': 2956, 'them': 3790, 'do': 1087, 'make': 2282, 'same': 3209, 'mistake': 2402, 'muddy': 2457, 'low': 2252, 'quality': 2963, 'casing': 563, 'around': 182, 'wire': 4242, 'insert': 1948, 'super': 3674, 'glued': 1643, 'slid': 3432, 'off': 2565, 'advise': 64, 'everyone': 1303, 'be': 306, 'fooled': 1512, 'hold': 1806, 'what': 4201, 'time': 3842, 'decision': 948, 'like': 2183, 'button': 496, 'felt': 1424, 'crack': 855, 'bought': 428, 'these': 3798, 'hoping': 1828, 'could': 836, 'bluetooth': 397, 'fit': 1463, 'better': 354, 'but': 494, 'things': 3803, 'made': 2268, 'impossible': 1902, 'wear': 4184, 'we': 4181, 'tried': 3928, 'units': 4012, 'both': 422, 'within': 4250, 'months': 2425, 'pros': 2917, 'put': 2957, 'recommend': 3037, 'avoiding': 241, 'this': 3809, 'down': 1112, 'drain': 1123, 'absolutel': 9, 'junk': 2058, 'ca': 506, 'store': 3606, 'anything': 150, 'numbers': 2547, 'sim': 3399, 'item': 2015, 'anyone': 149, 'big': 359, 'disappointment': 1054, 'calendar': 516, 'sync': 3709, 'impressed': 1903, 'just': 2060, 'even': 1294, 'fully': 1575, 'charged': 609, 'before': 327, 'went': 4199, 'bed': 321, 'turned': 3956, 'blue': 394, 'tooth': 3880, 'noticed': 2542, 'left': 2151, 'morning': 2432, 'plus': 2807, 'seriously': 3319, 'believe': 337, 'worth': 4281, 'its': 2016, 'steep': 3581, 'price': 2878, 'point': 2814, 'house': 1842, 'getting': 1624, 'dropped': 1150, 'coverage': 848, 'upstairs': 4050, 'basement': 293, 'takes': 3721, 'forever': 1523, 'hours': 1840, 'literally': 2202, 'unreliable': 4030, 'from': 1562, 'because': 317, 'weak': 4182, 'snap': 3465, 'simple': 3402, 'little': 2204, 'breakage': 439, 'unacceptible': 3972, 'pretty': 2875, 'piece': 2761, 'embarassing': 1230, 'hurt': 1862, 'if': 1880, 'try': 3946, 'ear': 1173, 'plug': 2804, 'into': 1989, 'unfortunately': 4001, 'ability': 2, 'actually': 48, 'know': 2096, 'you': 4310, 'receiving': 3029, 'call': 518, 'rather': 2994, 'important': 1901, 'feature': 1412, 'pitiful': 2770, 'respect': 3112, 'first': 1459, 'been': 323, 'cheaply': 624, 'awkward': 247, 'looking': 2224, 'for': 1516, 'good': 1654, 'motorola': 2441, 'keep': 2066, 'father': 1403, 'battery': 302, 'dying': 1169, 'after': 72, 'year': 4302, 'completely': 744, 'dead': 933, 'defective': 957, 'crap': 862, 'poor': 2823, 'construction': 788, 'about': 5, 'weeks': 4194, 'break': 438, 'get': 1622, 'strong': 3627, 'really': 3018, 'wanted': 4149, 'plantronics': 2784, 'right': 3144, 'too': 3875, 'many': 2297, 'issues': 2012, 'excellent': 1316, 'starter': 3564, 'wireless': 4245, 'performed': 2734, 'awful': 246, 'muffled': 2459, 'tinny': 3849, 'incoming': 1917, 'severe': 3337, 'echo': 1197, 'those': 3814, 'other': 2616, 'end': 1247, 'design': 994, 'might': 2384, 'ergonomic': 1277, 'theory': 3795, 'stand': 3554, 'having': 1742, 'camera': 525, 'balance': 271, 'dit': 1084, 'most': 2435, 'nokia': 2524, 'looks': 2225, 'picture': 2759, 'case': 558, 'huge': 1848, 'bluetoooth': 396, 'some': 3480, 'now': 2544, 'comfortable': 716, 'way': 4175, 'fits': 1464, 'wrong': 4297, 'size': 3420, 'unusable': 4037, 'new': 2508, 'take': 3718, 'drops': 1152, 'bar': 280, 'starts': 3565, 'beeping': 325, 'letting': 2166, 'dieing': 1030, 'stupid': 3637, 'buying': 501, 'chargers': 611, 'car': 539, 'cradles': 858, 'headphones': 1750, 'kits': 2091, 'every': 1300, 'comes': 714, 'bit': 370, 'talking': 3728, 'real': 3013, 'loud': 2239, 'shouting': 3377, 'telephone': 3758, 'gets': 1623, 'old': 2577, 'told': 3863, 'great': 1675, 'tick': 3835, 'background': 262, 'all': 91, 'calls': 522, 'never': 2505, 'experienced': 1343, 'odd': 2563, 'as': 194, 'clip': 682, 'at': 210, 'thought': 3816, 'grtting': 1698, 'deal': 937, 'until': 4035, 'plugged': 2805, 'razr': 3005, 'dont': 1103, 'buy': 498, 'here': 1780, 'us': 4053, 'unless': 4015, 'go': 1645, 'by': 504, 'converter': 814, 'soyo': 3514, 'technology': 3753, 'sucks': 3657, 'last': 2121, 'long': 2220, 'waiting': 4140, 'sure': 3685, 'well': 4198, 'ever': 1299, 'recieve': 3035, 'contstruct': 809, 'hinge': 1798, 'think': 3804, 'over': 2633, 'when': 4204, 'plan': 2778, 'own': 2650, 'moto': 2439, 'problem': 2889, 'loops': 2227, 'material': 2315, 'easily': 1189, 'bottowm': 426, 'line': 2191, 'another': 141, 'worthless': 4282, 'cheap': 622, 'gimmick': 1628, 'sprint': 3546, 'pair': 2669, 'att': 215, 'clear': 674, 'distorted': 1079, 'yell': 4304, 'talk': 3727, 'purchase': 2950, 'worked': 4271, 'look': 2222, 'cool': 821, 'mainly': 2275, 'charger': 610, 'which': 4208, 'broke': 458, 'soon': 3491, 'purchasing': 2953, 'latest': 2129, 'os': 2614, 'likes': 2185, 'slow': 3443, 'crawl': 867, 'lock': 2213, 'up': 4041, 'once': 2587, 'while': 4209, 'nothing': 2541, 'can': 527, 'say': 3236, 'sending': 3303, 'back': 259, 'came': 523, 'verizon': 4093, 'cingulair': 664, 'nicer': 2512, 'cell': 582, 'phones': 2754, 'giving': 1636, 'got': 1661, 'slowly': 3444, 'breaking': 441, 'despite': 1002, 'much': 2455, 'care': 544, 'part': 2689, 'money': 2417, 'due': 1156, 'happening': 1728, 'forced': 1518, 'stop': 3602, 'using': 4064, 'checked': 626, 'everywhere': 1305, 'earpiece': 1182, 'however': 1846, 'keypads': 2076, 'sometimes': 3484, 'reach': 3006, 'figure': 1432, 'software': 3472, 'used': 4058, 'give': 1633, 'zero': 4322, 'stars': 3560, 'lousy': 2243, 'lasted': 2122, 'day': 930, 'blew': 387, 'mother': 2437, 'she': 3350, 'volume': 4127, 'buyer': 499, 'careful': 545, 'were': 4200, 'jerks': 2031, 'check': 625, 'voice': 4123, 'mail': 2273, 'night': 2514, 'keypad': 2075, 'backlight': 263, 'turns': 3957, 'few': 1427, 'seconds': 3287, 'message': 2369, 'lost': 2236, 'disapointing': 1050, 'results': 3121, 'week': 4191, 'broken': 459, 'started': 3563, 'smoking': 3459, 'find': 1447, 'inexcusable': 1935, 'will': 4230, 'probably': 2888, 'returning': 3125, 'perhaps': 2735, 'changing': 601, 'carriers': 551, 'pay': 2710, 'guess': 1700, 'kind': 2087, 'embarrassing': 1231, 'how': 1844, 'mostly': 2436, 'company': 734, 'expected': 1339, 'consumer': 789, 'experience': 1342, 'everything': 1304, 'feel': 1414, 'days': 931, 'falls': 1381, 'happened': 1727, 'tracking': 3902, 'linksys': 2195, 'should': 3375, 'exchange': 1323, 'refurb': 3051, 'unit': 4011, 'or': 2605, 'something': 3483, 'must': 2469, 'study': 3633, 'interested': 1980, 'sins': 3412, 'industrial': 1932, 'bt': 469, 'such': 3653, 'disapoinment': 1049, 'tell': 3760, 'lose': 2234, 'more': 2430, 'bougth': 429, 'working': 4274, 'earbud': 1174, 'breaks': 442, 'barely': 283, 'hear': 1754, 'am': 107, 'constantly': 786, 'saying': 3237, 'europe': 1292, 'asia': 195, 'ordered': 2607, 'unhappy': 4003, 'immediately': 1896, 'protector': 2921, 'rip': 3152, 'shipping': 3361, 'less': 2160, 'an': 124, 'extra': 1356, 'originally': 2613, 'later': 2128, 'discarded': 1057, 'scratched': 3258, 'problems': 2890, 'reading': 3011, 'memory': 2357, 'card': 541, 'turn': 3955, 'again': 74, 'flimsy': 1486, 'plastic': 2786, 'front': 1563, 'side': 3386, 'protection': 2919, 'whatsoever': 4203, 'biggest': 361, 'complaint': 740, 'drains': 1125, 'superfast': 3678, 'together': 3861, 'restart': 3114, 'people': 2726, 'player': 2792, 'may': 2319, 'potentially': 2845, 'fry': 1568, 'improper': 1906, 'description': 988, 'return': 3123, 'cant': 535, 'computer': 752, 'bother': 423, 'contacting': 792, 'dollar': 1097, 'learned': 2145, 'lesson': 2162, 'form': 1530, 'online': 2591, 'anyway': 152, 'reaching': 3007, 'bottom': 425, 'row': 3179, 'uncomfortable': 3978, 'send': 3302, 'keys': 2077, 'where': 4206, 'expect': 1337, 'drop': 1149, 'screen': 3261, 'goes': 1649, 'black': 376, 'stops': 3604, 'ringing': 3147, 'intermittently': 1984, 'commercials': 727, 'misleading': 2398, 'steer': 3582, 'genuine': 1618, 'palm': 2675, 'replacementr': 3101, 'pens': 2725, 'come': 711, 'securly': 3290, 'belt': 346, 'strange': 3611, 'ticking': 3837, 'noises': 2523, 'ends': 1252, 'kept': 2071, 'catching': 569, 'cable': 508, 'seat': 3281, 'pull': 2941, 'trash': 3916, 'auto': 235, 'reverse': 3127, 'tape': 3732, 'puff': 2940, 'smoke': 3458, 'exchanged': 1324, 'cumbersome': 902, 'two': 3963, 'hate': 1736, 'mode': 2407, 'set': 3329, 'managed': 2291, 'bend': 348, 'leaf': 2141, 'spring': 3545, 'place': 2774, 'metal': 2373, 'stress': 3619, 'next': 2509, 'although': 104, 'rated': 2993, 'impressive': 1905, 'megapixels': 2343, 'renders': 3090, 'images': 1888, 'fall': 1379, 'below': 345, 'expectations': 1338, 'relatively': 3070, 'high': 1788, 'resolution': 3110, 'smudged': 3464, 'touches': 3892, 'face': 1364, 'match': 2314, 'buyit': 502, 'charges': 612, 'essentially': 1285, 'communications': 730, 'tool': 3877, 'communicate': 729, 'away': 244, 'sucked': 3655, 'stuff': 3634, 'adapter': 51, 'provide': 2926, 'tied': 3838, 'conversations': 813, 'lasting': 2123, 'than': 3779, 'pictures': 2760, 'lense': 2158, 'covered': 849, 'please': 2797, 'headsets': 1752, 'quite': 2973, 'compared': 735, 'previous': 2877, 'wired': 4243, 'lg': 2171, 'additional': 56, 'gels': 1608, 'provided': 2927, 'instructions': 1963, 'unsatisfactory': 4033, 'products': 2902, 'cover': 847, 'light': 2177, 'sensor': 3309, 'above': 6, 'outlet': 2626, 'tones': 3870, 'acceptable': 18, 'infuriating': 1944, 'loudspeaker': 2242, 'option': 2603, 'bumpers': 484, 'lights': 2181, 'appealing': 161, 'clicks': 679, 'wonder': 4259, 'mechanism': 2336, 'found': 1538, 'waaay': 4135, 'explain': 1346, 'microphone': 2380, 'jack': 2019, 'env': 1270, 'particular': 2691, 'angle': 131, 'party': 2694, 'clearly': 676, 'upload': 4046, 'ringtones': 3149, 'third': 3807, 'gotten': 1663, 'defect': 956, 'risk': 3156, 'built': 480, 'alone': 98, 'videos': 4103, 'forget': 1525, 'bars': 288, 'home': 1816, 'life': 2175, 'internet': 1985, 'access': 19, 'fine': 1449, 'rare': 2989, 'instance': 1958, 'saggy': 3198, 'floppy': 1491, 'wont': 4263, 'atleast': 212, 'audio': 228, 'missed': 2400, 'numerous': 2548, 'reason': 3019, 'received': 3027, 'counterfeit': 839, 'smell': 3452, 'unbearable': 3973, 'caused': 574, 'reception': 3032, 'flops': 1492, 'pleather': 2800, 'improvement': 1909, 'truly': 3940, 'earlier': 1178, 'review': 3129, 'noted': 2539, 'happens': 1729, 'going': 1650, 'minutes': 2394, 'maintain': 2277, 'connection': 773, 'lap': 2115, 'warning': 4157, 'dissapointing': 1077, 'performance': 2732, 'want': 4148, 'holster': 1815, 'bills': 363, 'understand': 3990, 'though': 3815, 'their': 3789, 'pricing': 2882, 'plans': 2782, 'chinese': 647, 'forgeries': 1524, 'abound': 4, 'lasts': 2124, 'wife': 4225, 'who': 4215, 'mind': 2388, 'gon': 1652, 'na': 2473, 'disgusting': 1066, 'need': 2491, 'least': 2146, 'mins': 2392, 'book': 411, 'short': 3371, 'small': 3447, 'install': 1956, 'any': 147, 'brand': 436, 'whine': 4210, 'avoid': 239, 'text': 3775, 'messaging': 2371, 'tricky': 3927, 'thin': 3801, 'scary': 3243, 'supposedly': 3684, 'apparently': 160, 'between': 355, 'obviously': 2556, 'adhesive': 57, 'rocketed': 3167, 'destination': 1005, 'unknown': 4014, 'bmw': 400, 'series': 3317, 'fairly': 1376, 'quiet': 2970, 'trouble': 3937, 'hearing': 1756, 'person': 2740, 'tech': 3752, 'support': 3682, 'walked': 4143, 'through': 3825, 'procedures': 2892, 'ended': 1249, 'hard': 1733, 'wiping': 4241, 'data': 925, 'white': 4213, 'colored': 705, 'couple': 840, 'hoursthe': 1841, 'original': 2611, 'longer': 2221, 'thereplacement': 3797, 'sounded': 3503, 'ok': 2575, 'almost': 97, 'totally': 3888, 'unintelligible': 4005, 'word': 4268, 'being': 334, 'said': 3199, 'refuse': 3052, 'refund': 3050, 'replace': 3099, 'flaw': 1478, 'correctly': 830, 'device': 1016, 'area': 176, 'trying': 3947, 'website': 4188, 'followed': 1507, 'directions': 1042, 'improve': 1907, 'leaks': 2142, 'given': 1634, 'star': 3557, 'able': 3, 'pads': 2663, 'needed': 2492, 'years': 4303, 'contract': 802, 'sudden': 3658, 'moving': 2453, 'freeway': 1548, 'speed': 3526, 'contacted': 791, 'under': 3981, 'warranty': 4158, 'produce': 2896, 'receipt': 3025, 'luck': 2256, 'creaks': 869, 'wooden': 4267, 'floor': 1490, 'killer': 2084, 'course': 843, 'addition': 55, 'amp': 121, 'lightweight': 2182, 'sitting': 3416, 'vehicle': 4083, 'cradle': 857, 'recently': 3031, 'connected': 771, 'disconnected': 1059, 'garbage': 1597, 'replacement': 3100, 'died': 1029, 'arrived': 185, 'photo': 2755, 'ad': 49, 'terrible': 3771, 'full': 1574, 'static': 3569, 'easy': 1190, 'riingtones': 3145, 'best': 353, 'neither': 2501, 'games': 1594, 'ready': 3012, 'prime': 2885, 'coming': 721, 'wind': 4234, 'excrutiatingly': 1329, 'locks': 2215, 'screens': 3263, 'flash': 1469, 'randomly': 2985, 'pocket': 2810, 'locked': 2214, 'couldnt': 837, 'earphone': 1181, 'usb': 4056, 'runs': 3189, 'quickly': 2969, 'tracfone': 3899, 'holds': 1809, 'lot': 2237, 'simply': 3405, 'deaf': 936, 'razor': 3004, 'highly': 1793, 'unacceptable': 3971, 'several': 3336, 'dozen': 1116, 'hundred': 1860, 'contacts': 793, 'imagine': 1892, 'fun': 1577, 'each': 1172, 'earpieces': 1183, 'sony': 3490, 'ericsson': 1279, 'thats': 3782, 'flip': 1487, 'elsewhere': 1228, 'bells': 341, 'whistles': 4212, 'mediocre': 2339, 'buzzing': 503, 'override': 2644, 'earpad': 1180, 'inexpensive': 1936, 'cingular': 665, 'jiggle': 2036, 'decent': 946, 'beware': 356, 'certain': 591, 'places': 2776, 'negatively': 2497, 'antena': 144, 'happy': 1732, 'wirefly': 4244, 'contact': 790, 'inform': 1941, 'practice': 2854, 'placed': 2775, 'treo': 3925, 'snug': 3468, 'room': 3174, 'sides': 3388, 'thorn': 3811, 'abhor': 1, 'accidentally': 24, 'activate': 42, 'touch': 3890, 'listening': 2200, 'somewhere': 3486, 'else': 1227, 'music': 2468, 'update': 4043, 'procedure': 2891, 'hands': 1719, 'operate': 2598, 'interface': 1982, 'decade': 944, 'compete': 737, 'designs': 997, 'threw': 3821, 'window': 4235, 'describe': 984, 'amazon': 113, 'painful': 2666, 'displeased': 1074, 'instruction': 1962, 'manual': 2296, 'strength': 3618, 'extremely': 1359, 'hot': 1838, 'dirty': 1047, 'majority': 2281, 'logitech': 2218, 'trust': 3944, 'helpful': 1774, 'different': 1032, 'monkeys': 2419, 'share': 3345, 'dna': 1086, 'copy': 823, 'humans': 1852, 'buyers': 500, 'remorse': 3086, 'currently': 904, 'shooters': 3366, 'delay': 964, 'messes': 2372, 'buds': 473, 'play': 2790, 'clarity': 668, 'looses': 2230, 'feet': 1418, 'holder': 1807, 'large': 2117, 'heavy': 1762, 'keeps': 2068, 'falling': 1380, 'ugly': 3968, 'drained': 1124, 'seem': 3293, 'accept': 17, 'except': 1319, 'cbr': 577, 'preferably': 2860, 'ripped': 3153, 'windows': 4236, 'media': 2337, 'flush': 1496, 'toilet': 3862, 'save': 3231, 'costs': 833, 'far': 1394, 'greater': 1676, 'ease': 1187, 'promised': 2909, 'timeframe': 3843, 'others': 2617, 'mentioned': 2361, 'allows': 95, 'possibility': 2838, 'double': 1107, 'booking': 412, 'date': 926, 'earbugs': 1176, 'means': 2330, 'note': 2538, 'appearance': 162, 'bland': 382, 'especially': 1284, 'model': 2408, 'top': 3881, 'causing': 575, 'discomfort': 1058, 'continue': 799, 'pairing': 2671, 'periodically': 2737, 'somehow': 3481, 'dropping': 1151, 'standard': 3555, 'recharge': 3034, 'iphone': 1997, 'connecting': 772, 'multiple': 2460, 'power': 2849, 'sources': 3510, 'imac': 1887, 'external': 1355, 'wall': 4145, 'etc': 1290, 'easier': 1188, 'wearing': 4185, 'wit': 4248, 'hit': 1802, 'answer': 142, 'utter': 4068, 'specially': 3525, 'mic': 2377, 'nano': 2477, 'stated': 3568, 'son': 3487, 'dissapointed': 1076, 'practically': 2853, 'add': 53, 'boost': 413, 'startac': 3562, 'regretted': 3059, 'wrongly': 4298, 'advertised': 63, 'hype': 1867, 'assumed': 206, 'nearly': 2489, 'refused': 3053, 'without': 4251, 'upgrade': 4044, 'discount': 1060, 'stopped': 3603, 'fliptop': 1489, 'loose': 2228, 'wobbly': 4257, 'eventually': 1298, 'receive': 3026, 'free': 1545, 'excited': 1325, 'cute': 912, 'loads': 2209, 'works': 4275, 'described': 985, 'superb': 3675, 'network': 2504, 'ac': 14, 'included': 1915, 'run': 3187, 'recommended': 3039, 'penny': 2724, 'amazed': 110, 'handsfree': 1721, 'gadgets': 1590, 'finally': 1446, 'definitely': 961, 'bargain': 284, 'ordering': 2608, 'igo': 1884, 'players': 2793, 'family': 1387, 'overall': 2635, 'psyched': 2933, 'appointments': 170, 'jawbone': 2026, 'era': 1276, 'awesome': 245, 'incredible': 1921, 'value': 4073, 'file': 1434, 'browser': 464, 'offers': 2569, 'options': 2604, 'excelent': 1315, 'glad': 1637, 'priced': 2879, 'adapters': 52, 'wo': 4255, 'smallest': 3449, 'stays': 3574, 'fantastic': 1392, 'perfectly': 2731, 'cases': 559, 'open': 2594, 'allowing': 94, 'quick': 2967, 'charm': 618, 'ant': 143, 'ago': 78, 'love': 2245, 'sturdy': 3639, 'waterproof': 4171, 'leather': 2147, 'nice': 2511, 'soft': 3471, 'tight': 3840, 'cut': 911, 'shape': 3344, 'arrival': 184, 'batteries': 301, 'fraction': 1541, 'bose': 420, 'noise': 2522, 'cancelling': 531, 'amazing': 111, 'nyc': 2553, 'commuter': 732, 'wallet': 4146, 'type': 3965, 'handy': 1722, 'detachable': 1008, 'reversible': 3128, 'setup': 3333, 'smoothly': 3463, 'walkman': 4144, 'sliding': 3436, 'edge': 1200, 'pants': 2682, 'pockets': 2811, 'instead': 1961, 'overnight': 2641, 'surefire': 3686, 'seems': 3295, 'secure': 3289, 'holding': 1808, 'keeping': 2067, 'inside': 1949, 'convenient': 810, 'job': 2039, 'done': 1101, 'ride': 3141, 'smoother': 3461, 'features': 1413, 'pc': 2712, 'combination': 709, 'colleague': 702, 'expensive': 1341, 'crisp': 883, 'cutouts': 914, 'comfortably': 717, 'authentic': 233, 'shine': 3357, 'comfort': 715, 'video': 4102, 'clips': 684, 'virgin': 4112, 'rocks': 3168, 'blueant': 395, 'supertooth': 3681, 'speaker': 3521, 'market': 2302, 'five': 1465, 'winner': 4240, 'loves': 2250, 'sold': 3475, 'research': 3108, 'development': 1014, 'division': 1085, 'knows': 2098, 'doing': 1096, 'glove': 1642, 'durable': 1163, 'hand': 1714, 'jabra': 2018, 'flawlessly': 1481, 'bluetooths': 398, 'listener': 2199, 'pleased': 2798, 'see': 3291, 'travled': 3917, 'swivel': 3706, 'blackberry': 377, 'ask': 197, 'fulfills': 1573, 'requirements': 3107, 'purchased': 2951, 'friends': 1558, 'enjoy': 1258, 'build': 476, 'unlike': 4016, 'anywhere': 154, 'geeky': 1607, 'sex': 3338, 'toast': 3858, 'oozes': 2593, 'embedded': 1233, 'sleek': 3428, 'stylish': 3642, 'definitly': 962, 'ipods': 1999, 'bitpim': 375, 'program': 2908, 'transfer': 3907, 'faceplates': 1365, 'elegant': 1221, 'adorable': 60, 'someone': 3482, 'shouldve': 3376, 'invented': 1991, 'sooner': 3492, 'finds': 1448, 'enter': 1263, 'quit': 2972, 'owned': 2651, 'our': 2621, 'whole': 4218, 'yet': 4309, 'satisfied': 3224, 'ericson': 1278, 'attractive': 226, 'appears': 163, 'installed': 1957, 'let': 2164, 'overnite': 2642, 'allot': 92, 'clearer': 675, 'keyboard': 2074, 'compromise': 751, 'qwerty': 2975, 'basic': 294, 'number': 2546, 'krussel': 2102, 'exactly': 1309, 'aluminum': 105, 'vx': 4133, 'protected': 2918, 'handheld': 1715, 'metro': 2374, 'pcs': 2713, 'samsung': 3211, 'slider': 3434, 'premium': 2864, 'plugs': 2806, 'cat': 568, 'attacked': 218, 'he': 1747, 'protective': 2920, 'strip': 3625, 'destroying': 1007, 'im': 1886, 'sharp': 3346, 'bulky': 481, 'paired': 2670, 'key': 2073, 'pad': 2662, 'lit': 2201, 'flipphones': 1488, 'transmission': 3912, 'solid': 3477, 'armband': 181, 'packaged': 2660, 'absolutely': 10, 'linking': 2194, 'curve': 906, 'eargels': 1177, 'carry': 553, 'month': 2424, 'slim': 3439, 'alarm': 87, 'clock': 685, 'docking': 1088, 'station': 3570, 'removing': 3088, 'worthwhile': 4283, 'iam': 1869, 'hybrid': 1866, 'excels': 1318, 'roles': 3171, 'leopard': 2159, 'print': 2886, 'wonderfully': 4262, 'wild': 4227, 'practical': 2852, 'ample': 122, 'storage': 3605, 'range': 2986, 'generally': 1611, 'glasses': 1640, 'exceeds': 1314, 'sight': 3389, 'regret': 3057, 'total': 3887, 'package': 2659, 'certainly': 592, 'engineered': 1256, 'clever': 677, 'functionality': 1580, 'timely': 3845, 'shipment': 3359, 'saved': 3232, 'alot': 101, 'magical': 2272, 'help': 1772, 'sanyo': 3218, 'survived': 3697, 'dozens': 1117, 'blacktop': 378, 'ill': 1885, 'skype': 3425, 'lately': 2127, 'factor': 1370, 'restored': 3117, 'encourage': 1246, 'finished': 1455, 'fast': 1400, 'messages': 2370, 'web': 4187, 'browsing': 465, 'significantly': 3394, 'faster': 1401, 'portable': 2829, 'shipped': 3360, 'promptly': 2913, 'trunk': 3943, 'carried': 550, 'conversation': 812, 'hitch': 1803, 'modest': 2410, 'cellular': 585, 'prompt': 2911, 'colors': 707, 'tips': 3852, 'orders': 2609, 'order': 2606, 'source': 3509, 'gave': 1603, 'earset': 1185, 'outgoing': 2624, 'display': 1073, 'beautiful': 313, 'whether': 4207, 'seller': 3300, 'understanding': 3991, 'patient': 2703, 'clipping': 683, 'deffinitely': 958, 'cent': 586, 'reccomendation': 3024, 'relative': 3069, 'frog': 1561, 'eye': 1360, 'iriver': 2004, 'spinn': 3537, 'electronics': 1220, 'available': 236, 'fm': 1500, 'transmitters': 3914, 'thanks': 3780, 'passed': 2695, 'mark': 2301, 'shows': 3382, 'signs': 3395, 'functional': 1579, 'beat': 310, 'occupied': 2560, 'distracting': 1081, 'kindle': 2089, 'fire': 1456, 'loved': 2246, 'transmit': 3913, 'span': 3519, 'hour': 1839, 'exclaim': 1327, 'whoa': 4216, 'tv': 3958, 'sounds': 3504, 'reasonably': 3021, 'effective': 1209, 'wise': 4246, 'satisifed': 3226, 'concrete': 761, 'knock': 2094, 'wood': 4266, 'aspect': 200, 'stream': 3616, 'submerged': 3648, 'connect': 770, 'simpler': 3403, 'dialing': 1021, 'entire': 1267, 'behing': 332, 'comfortible': 718, 'pain': 2665, 'motorolas': 2442, 'integrated': 1971, 'seamlessly': 3274, 'outperform': 2627, 'china': 646, 'loop': 2226, 'tiny': 3850, 'posted': 2841, 'detailed': 1009, 'comments': 725, 'grey': 1683, 'thumbs': 3831, 'cellphone': 583, 'recognition': 3036, 'thru': 3829, 'handset': 1720, 'transceiver': 3905, 'accompanied': 28, 'brilliant': 452, 'searched': 3276, 'cables': 509, 'ipod': 1998, 'cancellation': 530, 'tremendous': 3923, 'prettier': 2874, 'graphics': 1671, 'incredibly': 1922, 'slide': 3433, 'grip': 1688, 'prevents': 2876, 'slipping': 3441, 'realize': 3016, 'conditions': 764, 'state': 3567, 'allow': 93, 'usage': 4055, 'driving': 1147, 'controls': 807, 'accessable': 20, 'roam': 3160, 'living': 2208, 'investment': 1993, 'devices': 1017, 'took': 3876, 'making': 2285, 'awsome': 249, 'transformed': 3909, 'organizational': 2610, 'capability': 536, 'favorite': 1409, 'purchases': 2952, 'ideal': 1874, 'whose': 4221, 'sensitive': 3308, 'beats': 312, 'fingers': 1453, 'everyday': 1302, 'usefulness': 4060, 'self': 3299, 'portraits': 2832, 'outside': 2629, 'exterior': 1354, 'motor': 2440, 'control': 806, 'center': 587, 'voltage': 4126, 'humming': 1855, 'equipment': 1274, 'download': 1113, 'laptop': 2116, 'ir': 2001, 'compliments': 747, 'maintains': 2279, 'flawless': 1480, 'during': 1164, 'normal': 2530, 'joy': 2050, 'inconspicuous': 1920, 'boot': 414, 'ring': 3146, 'tone': 3869, 'boy': 433, 'cheaper': 623, 'reasonable': 3020, 'gosh': 1660, 'styles': 3641, 'existing': 1335, 'cds': 578, 'usually': 4067, 'loudest': 2240, 'setting': 3331, 'websites': 4189, 'rating': 2995, 'headbands': 1749, 'mess': 2368, 'hair': 1710, 'mobile': 2406, 'otherwise': 2618, 'shots': 3374, 'sos': 3500, 'signals': 3392, 'infatuated': 1939, 'happier': 1730, 'intended': 1975, 'protects': 2922, 'tools': 3878, 'mega': 2342, 'pixel': 2771, 'effects': 1210, 'complaints': 741, 'regarding': 3054, 'carries': 552, 'highest': 1790, 'palms': 2676, 'tracfonewebsite': 3900, 'user': 4062, 'friendly': 1557, 'toactivate': 3857, 'linked': 2193, 'effort': 1212, 'usable': 4054, 'pda': 2714, 'useful': 4059, 'machine': 2266, 'neat': 2490, 'gadget': 1589, 'fact': 1369, 'rests': 3119, 'lightly': 2180, 'against': 75, 'fabulous': 1363, 'wish': 4247, 'negative': 2496, 'values': 4074, 'admins': 58, 'casting': 567, 'cause': 573, 'actors': 44, 'period': 2736, 'presence': 2868, 'animals': 135, 'integration': 1972, 'scenes': 3246, 'obvious': 2555, 'seen': 3296, 'chosen': 656, 'tortured': 3886, 'blatant': 386, 'american': 117, 'propaganda': 2915, 'game': 1593, 'boring': 419, 'horror': 1833, 'movies': 2452, 'centers': 588, 'atmosphere': 213, 'lame': 2111, 'premise': 2863, 'film': 1439, 'ridiculous': 3142, 'president': 2871, 'pm': 2808, 'watch': 4165, 'forwarded': 1537, 'remaining': 3080, 'watchable': 4166, 'human': 1850, 'brain': 435, 'exceptionally': 1321, 'convoluted': 818, 'plot': 2803, 'convince': 816, 'watched': 4167, 'questioning': 2966, 'glance': 1638, 'actress': 45, 'repeating': 3096, 'her': 1779, 'robotic': 3164, 'moves': 2450, 'proceedings': 2893, 'remotely': 3087, 'america': 116, 'whatever': 4202, 'cost': 831, 'translate': 3910, 'saw': 3235, 'theater': 3784, 'sick': 3385, 'miserable': 2396, 'hollow': 1814, 'laughable': 2133, 'predictable': 2858, 'idea': 1873, 'minor': 2391, 'character': 604, 'complete': 742, 'movie': 2451, 'agreed': 79, 'nobody': 2519, 'identifies': 1875, 'characters': 606, 'cardboard': 542, 'stereotypes': 3587, 'predictably': 2859, 'drama': 1126, 'actor': 43, 'playing': 2794, 'villain': 4108, 'rent': 3093, 'michael': 2378, 'ironside': 2008, 'regrettably': 3058, 'fails': 1374, 'pure': 2954, 'disaster': 1056, 'story': 3609, 'editing': 1203, 'confuses': 769, 'sum': 3667, 'breeders': 443, 'avoided': 240, 'ebola': 1195, 'virus': 4113, 'wow': 4289, 'bela': 335, 'lugosi': 2258, 'extraneous': 1357, 'intoning': 1990, 'lines': 2192, 'imdb': 1894, 'ratings': 2996, 'second': 3284, 'pleasant': 2796, 'voyage': 4131, 'captain': 538, 'howdy': 1845, 'plain': 2777, 'relationship': 3067, 'bakery': 269, 'assistant': 205, 'waitress': 4141, 'wasted': 4163, 'continuity': 800, 'errors': 1281, 'commented': 724, 'cars': 554, 'garage': 1596, 'joe': 2041, 'facial': 1367, 'configuration': 766, 'seemed': 3294, 'change': 599, 'scene': 3244, 'opened': 2595, 'his': 1800, 'mouth': 2444, 'kids': 2081, 'pulling': 2943, 'mercy': 2364, 'killing': 2085, 'show': 3378, 'script': 3266, 'horrendously': 1830, 'aspects': 201, 'lack': 2105, 'notable': 2536, 'gore': 1657, 'ireland': 2003, 'world': 4276, 'flawed': 1479, 'core': 825, 'final': 1444, 'torture': 3885, 'lucy': 2257, 'bell': 338, 'higher': 1789, 'sink': 3410, 'depressing': 981, 'derivative': 983, 'ending': 1250, 'directing': 1040, 'pretentious': 2872, 'funny': 1582, 'considering': 781, 'ridiculousness': 3143, 'summary': 3669, 'witticisms': 4253, 'witty': 4254, 'lacks': 2108, 'visual': 4117, 'interest': 1979, 'expression': 1350, 'feeling': 1415, 'celebration': 580, 'patriotism': 2705, 'underlines': 3986, 'narrative': 2480, 'doubt': 1108, 'football': 1515, 'perplexing': 2739, 'half': 1711, 'following': 1508, 'bunch': 485, 'schoolers': 3250, 'cry': 897, 'delete': 965, 'worse': 4279, 'taylor': 3745, 'acting': 39, 'stanwyck': 3556, 'singing': 3408, 'dislike': 1069, 'usual': 4066, 'hitchcock': 1804, 'logic': 2217, 'flaws': 1482, 'plays': 2795, 'angela': 128, 'bennett': 349, 'expert': 1345, 'yes': 4308, 'simplifying': 3404, 'sake': 3200, 'brevity': 445, 'fulfilling': 1572, 'explanation': 1347, 'squibs': 3548, 'developments': 1015, 'lacked': 2106, 'depth': 982, 'utterly': 4069, 'merit': 2366, 'level': 2168, 'akin': 85, 'ironically': 2005, 'films': 1443, 'scared': 3241, 'horrified': 1832, 'sympathetic': 3708, 'towards': 3895, 'annoying': 140, 'beyond': 357, 'storyline': 3610, 'stage': 3551, 'farce': 1395, 'sort': 3499, 'pap': 2684, 'screened': 3262, 'afternoon': 73, 'punish': 2946, 'unemployed': 3997, 'jobs': 2040, 'insult': 1966, 'intelligence': 1973, 'action': 40, 'unoriginal': 4022, 'foreigner': 1522, 'translating': 3911, 'offensive': 2567, 'frightening': 1560, 'comprehensible': 750, 'seeing': 3292, 'bipolarity': 366, 'ruthless': 3191, 'thug': 3830, 'minute': 2393, 'luv': 2262, 'diaper': 1025, 'commercial': 726, 'unconvincing': 3980, 'itself': 2017, 'lazy': 2138, 'sets': 3330, 'thunderbirds': 3833, 'episode': 1271, 'warmth': 4155, 'shelves': 3355, 'dialogue': 1024, 'composed': 748, 'sense': 3305, 'aimless': 81, 'distressed': 1082, 'drifting': 1141, 'young': 4311, 'man': 2290, 'stories': 3607, 'unbelievable': 3975, 'iq': 2000, 'particularly': 2692, 'mollusk': 2412, 'disturbing': 1083, 'memories': 2355, 'succeeded': 3651, 'idiot': 1877, 'season': 3277, 'concert': 759, 'sequences': 3315, 'vomited': 4129, 'watching': 4168, 'blandly': 384, 'written': 4296, 'edward': 1205, 'chodorov': 652, 'produced': 2897, 'surprisingly': 3694, 'directed': 1039, 'jean': 2027, 'negulesco': 2499, 'whom': 4220, 'fat': 1402, 'geek': 1606, 'bible': 358, 'thumper': 3832, 'girl': 1630, 'hopeless': 1826, 'overacting': 2634, 'shot': 3373, 'space': 3515, 'unwatchable': 4038, 'direction': 1041, 'mean': 2327, 'yeah': 4301, 'pathetic': 2702, 'bored': 418, 'throughout': 3826, 'damn': 919, 'example': 1311, 'conclusion': 760, 'volcano': 4125, 'los': 2233, 'angeles': 129, 'nonsense': 2527, 'slightest': 3437, 'uniqueness': 4010, 'distinction': 1078, 'weaker': 4183, 'average': 237, 'remember': 3083, 'senses': 3306, 'assaulted': 204, 'strident': 3621, 'cords': 824, 'blare': 385, 'meaning': 2329, 'victor': 4101, 'mclaglen': 2323, 'brian': 446, 'donlevy': 1102, 'unrecognizable': 4028, 'central': 589, 'themes': 3792, 'handled': 1716, 'ineptly': 1934, 'stereotypically': 3588, 'imagination': 1890, 'tickets': 3836, 'dollars': 1098, 'mad': 2267, 'paid': 2664, 'earth': 1186, 'irons': 2007, 'prompted': 2912, 'documentary': 1091, 'footage': 1514, 'elderly': 1219, 'awkwardly': 248, 'babbling': 255, 'overwrought': 2647, 'gibberish': 1627, 'corny': 827, 'teen': 3756, 'goth': 1662, 'blush': 399, 'olde': 2578, 'english': 1257, 'latin': 2131, 'words': 4269, 'sloppy': 3442, 'chemistry': 638, 'ben': 347, 'affleck': 68, 'sandra': 3214, 'bullock': 482, 'why': 4222, 'consider': 778, 'leaving': 2150, 'chick': 640, 'knocked': 2095, 'leave': 2148, 'shelf': 3353, 'competent': 738, 'jerry': 2033, 'falwell': 1383, 'politically': 2820, 'correct': 828, 'expecting': 1340, 'oscar': 2615, 'grade': 1667, 'cast': 565, 'daughter': 928, 'jerky': 2032, 'movements': 2449, 'serious': 3318, 'spoilers': 3541, 'crash': 863, 'provokes': 2930, 'emotion': 1237, 'teaches': 3748, 'already': 102, 'racism': 2978, 'prejudice': 2861, 'fish': 1460, 'badly': 266, 'underwater': 3995, 'repeated': 3095, 'thousand': 3818, 'jessice': 2034, 'lange': 2114, 'clothes': 688, 'widmark': 4223, 'unintentionally': 4006, 'comical': 720, 'fox': 1540, 'channel': 602, 'scares': 3242, 'tension': 3766, 'medical': 2338, 'terminology': 3769, 'iffy': 1881, 'insulin': 1965, 'dependant': 978, 'diabetic': 1020, 'myself': 2471, 'unrecommended': 4029, 'start': 3561, 'lead': 2139, 'professor': 2905, 'empty': 1243, 'shell': 3354, 'filmiing': 1440, 'expansive': 1336, 'sorry': 3498, 'washing': 4161, 'twirling': 3960, 'eyes': 1362, 'suspense': 3700, 'planned': 2780, 'dodge': 1092, 'stratus': 3613, 'makers': 2283, 'restrained': 3118, 'business': 491, 'québec': 2974, 'believable': 336, 'surely': 3687, 'coherent': 698, 'screenwriter': 3264, 'air': 82, 'force': 1517, 'obliged': 2554, 'write': 4292, 'disliked': 1070, 'despised': 1001, 'jim': 2037, 'energetic': 1253, 'him': 1796, 'george': 1620, 'dull': 1158, 'youtube': 4316, 'released': 3075, 'special': 3524, 'ones': 2589, 'hang': 1723, 'appalling': 159, 'lewis': 2170, 'considerable': 779, 'talent': 3724, 'incendiary': 1914, 'unrestrained': 4032, 'heard': 1755, 'cole': 701, 'fare': 1396, 'morgan': 2431, 'freeman': 1547, 'jonah': 2047, 'hill': 1795, 'ed': 1199, 'helms': 1771, 'create': 872, 'inexperience': 1937, 'meant': 2331, 'dramatic': 1127, 'conflict': 768, 'unfunny': 4002, 'unrealistic': 4027, 'looked': 2223, 'bring': 454, 'relations': 3066, 'surprising': 3693, 'puppets': 2949, 'gives': 1635, 'fingernails': 1452, 'chalkboard': 596, 'hypocrisy': 1868, 'vomit': 4128, 'explosion': 1349, 'gas': 1601, 'tanks': 3729, 'punched': 2945, 'gallon': 1592, 'blood': 389, 'spew': 3530, 'forth': 1534, 'created': 873, 'aside': 196, 'debits': 942, 'sequel': 3312, 'wants': 4151, 'surf': 3688, 'wave': 4174, 'deep': 953, 'impact': 1897, 'armageddon': 179, 'buildings': 479, 'locations': 2212, 'maybe': 2320, 'hummh': 1854, 'ball': 273, 'talented': 3725, 'carrell': 549, 'filmmaker': 1441, 'nor': 2529, 'director': 1043, 'hide': 1787, 'head': 1748, 'sand': 3213, 'spent': 3529, 'amount': 120, 'rate': 2992, 'stinks': 3595, 'fulci': 1571, 'stayed': 3572, 'giallo': 1625, 'supernatural': 3680, 'zombie': 4324, 'thrown': 3828, 'follows': 1509, 'band': 278, 'mansonites': 2295, 'reporter': 3103, 'anniversary': 139, 'killings': 2086, 'writing': 4295, 'reviews': 3133, 'proud': 2923, 'women': 4258, 'sign': 3390, 'happen': 1726, 'asleep': 199, 'hackneyed': 1708, 'convey': 815, 'broad': 457, 'sweep': 3702, 'landscapes': 2113, 'painfully': 2667, 'dreary': 1133, 'cg': 593, 'opening': 2596, 'sequence': 3314, 'microsoft': 2381, 'slideshow': 3435, 'god': 1647, 'personalities': 2742, 'twists': 3962, 'occur': 2561, 'drive': 1146, 'barking': 285, 'shameful': 3343, 'shame': 3342, 'thomerson': 3810, 'james': 2022, 'fan': 1389, 'stinker': 3594, 'smells': 3454, 'release': 3074, 'drag': 1121, 'heroes': 1784, 'freedom': 1546, 'racial': 2977, 'jokes': 2046, 'offend': 2566, 'walk': 4142, 'theatre': 3785, 'relief': 3076, 'bore': 417, 'pieces': 2762, 'kill': 2083, 'momentum': 2416, 'quicker': 2968, 'songs': 3489, 'tuneful': 3953, 'close': 686, 'ups': 4049, 'regardless': 3055, 'levels': 2169, 'insipid': 1951, 'relate': 3063, 'hell': 1768, 'rpg': 3181, 'disgrace': 1062, 'rpger': 3182, 'scale': 3239, 'balanced': 272, 'underacting': 3982, 'convention': 811, 'past': 2697, 'shattered': 3348, 'recover': 3041, 'cheesy': 636, 'puppet': 2948, 'master': 2310, 'flicks': 1485, 'often': 2571, 'follow': 1506, 'surroundings': 3696, 'sidelined': 3387, 'inexplicable': 1938, 'focus': 1502, 'crew': 882, 'dialogs': 1023, 'shallow': 3341, 'insincere': 1950, 'main': 2274, 'budget': 472, 'involved': 1995, 'knew': 2092, 'string': 3623, 'loosely': 2229, 'public': 2937, 'charisma': 614, 'comedic': 712, 'timing': 3848, 'production': 2901, 'format': 1531, 'baaaaaad': 253, 'aired': 83, 'dribble': 1137, 'putting': 2958, 'needlessly': 2494, 'repeats': 3097, 'backed': 261, 'vehicles': 4084, 'corn': 826, 'flakes': 1467, 'box': 431, 'directorial': 1044, 'style': 3640, 'bordered': 416, 'stupidity': 3638, 'sheer': 3352, 'tedium': 3755, 'melodrama': 2348, 'sinking': 3411, 'lord': 2231, 'thinking': 3805, 'rita': 3157, 'hayworth': 1745, 'pedestal': 2722, 'becomes': 320, 'uninteresting': 4007, 'forgettable': 1526, 'speak': 3520, 'begin': 329, 'smart': 3450, 'ass': 202, 'uncalled': 3977, 'precisely': 2856, 'flick': 1484, 'scripts': 3268, 'yawn': 4300, 'credit': 879, 'version': 4095, 'trek': 3922, 'frontier': 1564, 'artless': 192, 'endlessly': 1251, 'presents': 2870, 'ugliest': 3967, 'imaginable': 1889, 'establish': 1286, 'theme': 3791, 'cheerless': 631, 'heist': 1765, 'characterisation': 605, 'lots': 2238, 'underbite': 3984, 'stoic': 3599, 'emoting': 1236, 'chow': 658, 'yun': 4321, 'tomorrow': 3868, 'clichés': 678, 'abandoned': 0, 'factory': 1371, 'executed': 1332, 'flying': 1498, 'judo': 2055, 'rolls': 3173, 'la': 2104, 'john': 2042, 'woo': 4265, 'death': 939, 'wouldnt': 4286, 'school': 3249, 'pile': 2763, 'round': 3177, 'engaging': 1255, 'exciting': 1326, 'peaking': 2716, 'paper': 2685, 'columbo': 708, 'blah': 379, 'holes': 1811, 'guy': 1704, 'potted': 2846, 'plants': 2785, 'confirm': 767, 'generic': 1613, 'exaggerating': 1310, 'moment': 2414, 'joke': 2045, 'trailer': 3904, 'flat': 1471, 'reenactments': 3045, 'attention': 223, 'emotionally': 1238, 'adrift': 61, 'stagy': 3552, 'century': 590, 'road': 3159, 'silly': 3398, 'noir': 2521, 'implausible': 1900, 'unmitigated': 4018, 'underneath': 3988, 'filmography': 1442, 'site': 3415, 'chance': 598, 'littered': 2203, 'overt': 2645, 'slurs': 3445, 'members': 2353, 'whites': 4214, 'depicted': 979, 'morons': 2433, 'boobs': 410, 'rough': 3176, 'draft': 1120, 'shooting': 3367, 'began': 328, 'completed': 743, 'secondary': 3285, 'incomprehensible': 1918, 'relation': 3065, 'primary': 2884, 'mystifying': 2472, 'gone': 1653, 'dee': 952, 'snider': 3466, 'attempts': 222, 'humor': 1857, 'dose': 1106, 'bear': 309, 'involves': 1996, 'vulcan': 4132, 'stealing': 3578, 'enterprise': 1264, 'uhura': 3969, 'belly': 343, 'dance': 920, 'distract': 1080, 'male': 2286, 'guards': 1699, 'rest': 3113, 'hated': 1737, 'entirely': 1268, 'unmoving': 4019, 'warn': 4156, 'dumbest': 1160, 'billy': 364, 'bob': 402, 'rise': 3155, 'indescribably': 1924, 'idiotic': 1878, 'hosting': 1837, 'monotonous': 2421, 'guests': 1702, 'pyromaniac': 2959, 'waylaid': 4176, 'switched': 3705, 'originality': 2612, 'freshness': 1553, 'remake': 3081, 'offer': 2568, 'redeeming': 3044, 'qualities': 2962, 'monumental': 2426, 'energy': 1254, 'laugh': 2132, 'smile': 3455, 'irritating': 2009, 'lassie': 2120, 'sleep': 3429, 'became': 316, 'emperor': 1239, 'spend': 3527, 'childhood': 643, 'mature': 2318, 'age': 76, 'professionals': 2904, 'drago': 1122, 'debbie': 941, 'rochon': 3165, 'contributory': 805, 'former': 1532, 'dialog': 1022, 'tolerable': 3864, 'pillow': 2764, 'losing': 2235, 'marbles': 2298, 'early': 1179, 'doomed': 1104, 'conception': 756, 'act': 37, 'drift': 1140, 'possible': 2839, 'superficial': 3679, 'terribly': 3772, 'awards': 243, 'accolades': 26, 'deserving': 993, 'tired': 3854, 'thick': 3800, 'chilly': 645, 'unremarkable': 4031, 'author': 234, 'abstruse': 12, 'culture': 901, 'crackles': 856, 'unpredictable': 4024, 'youthful': 4315, 'honestly': 1820, 'concentrate': 754, 'meanders': 2328, 'today': 3860, 'sappiest': 3219, 'comedy': 713, 'paul': 2709, 'matthews': 2317, 'monster': 2422, 'grim': 1686, 'pace': 2655, 'wasting': 4164, 'kid': 2079, 'accents': 16, 'abysmal': 13, 'single': 3409, 'decisions': 949, 'schrader': 3251, 'resume': 3122, 'amateurish': 108, 'performances': 2733, 'improved': 1908, 'improvisation': 1910, 'twice': 3959, 'worry': 4278, 'delivering': 974, 'pretext': 2873, 'whiny': 4211, 'pointless': 2816, 'omit': 2585, 'atrocious': 214, 'showcasing': 3379, 'art': 187, 'noteworthy': 2540, 'intelligent': 1974, 'masterful': 2311, 'attempt': 219, 'nature': 2485, 'race': 2976, 'lets': 2165, 'major': 2280, 'destroy': 1006, 'latifa': 2130, 'redeemed': 3043, 'fodder': 1504, 'evidently': 1306, 'limited': 2189, 'producer': 2898, 'debated': 940, 'sack': 3194, 'trumpeter': 3942, 'falsely': 1382, 'accused': 31, 'murder': 2462, 'soap': 3470, 'operas': 2597, 'realistic': 3014, 'ballet': 274, 'repertory': 3098, 'malta': 2289, 'settings': 3332, 'dry': 1153, 'barren': 287, 'insomniacs': 1952, 'woa': 4256, 'slackers': 3426, 'excuses': 1331, 'actions': 41, 'primal': 2883, 'impulse': 1911, 'wondered': 4260, 'shortlist': 3372, 'moments': 2415, 'excruciatingly': 1328, 'fishnet': 1461, 'stockings': 3598, 'astonishingly': 208, 'ham': 1713, 'fisted': 1462, 'storm': 3608, 'trooper': 3936, 'list': 2198, 'contains': 796, 'cheesiness': 635, 'unethical': 3998, 'normally': 2531, 'called': 519, 'unpleasant': 4023, 'speaking': 3523, 'unbearably': 3974, 'kitchy': 2090, 'hence': 1777, 'visually': 4118, 'collect': 703, 'extant': 1352, 'austen': 231, 'skip': 3424, 'guys': 1705, 'lighting': 2179, 'audience': 227, 'fifteen': 1430, 'um': 3970, 'camerawork': 526, 'ten': 3763, 'thoughts': 3817, 'dumb': 1159, 'unnecessary': 4020, 'coaster': 692, 'emptiness': 1242, 'attempting': 221, 'artiness': 190, 'angles': 132, 'zillion': 4323, 'reality': 3015, 'americans': 118, 'hatred': 1738, 'admitted': 59, 'inspiration': 1953, 'overcome': 2636, 'fear': 1411, 'rejection': 3062, 'strives': 3626, 'greatness': 1678, 'poetry': 2812, 'delivers': 975, 'muddled': 2456, 'disparate': 1071, 'reviewer': 3130, 'accurately': 30, 'defined': 960, 'horrendous': 1829, 'soundtrack': 3505, 'wedding': 4190, 'insane': 1947, 'content': 797, 'fill': 1436, 'punishment': 2947, 'park': 2688, 'cinema': 662, 'adventure': 62, 'okay': 2576, 'fair': 1375, 'critic': 885, 'creature': 877, 'consolations': 784, 'actresses': 46, 'anne': 138, 'sisters': 3414, 'wonderful': 4261, 'kris': 2100, 'kristoffersen': 2101, 'difference': 1031, 'interesting': 1981, 'beginning': 330, 'cinematography': 663, 'sole': 3476, 'bright': 450, 'spot': 3543, 'fans': 1391, 'recent': 3030, 'superbad': 3676, 'weight': 4195, 'interim': 1983, 'south': 3511, 'africa': 71, 'attempted': 220, 'truth': 3945, 'reconciliation': 3040, 'process': 2894, 'outlandish': 2625, 'array': 183, 'memorable': 2354, 'psychotic': 2935, 'lovable': 2244, 'nuts': 2552, 'child': 642, 'stranger': 3612, 'gerardo': 1621, 'song': 3488, 'running': 3188, 'liked': 2184, 'details': 1011, 'dysfunction': 1171, 'suited': 3666, 'whenever': 4205, 'memorized': 2356, 'ta': 3712, 'slimy': 3440, 'drooling': 1148, 'teeth': 3757, 'brother': 461, 'robert': 3163, 'ryan': 3192, 'portraying': 2836, 'imitation': 1895, 'individual': 1929, 'instant': 1959, 'classic': 670, 'catchy': 570, 'credits': 880, 'cult': 900, 'evil': 1307, 'phantasm': 2748, 'discovering': 1061, 'christmas': 659, 'terrific': 3773, 'including': 1916, 'shirley': 3362, 'jones': 2048, 'rendition': 3091, 'tonight': 3872, 'uplifting': 4045, 'hip': 1799, 'pray': 2855, 'properly': 2916, 'builders': 477, 'cross': 887, 'pg': 2747, 'result': 3120, 'powerhouse': 2851, 'achievement': 33, 'fascination': 1399, 'celebrity': 581, 'interpretations': 1987, 'fame': 1384, 'perfect': 2728, 'di': 1019, 'girolamo': 1632, 'vision': 4114, 'struggle': 3630, 'writer': 4293, 'gorman': 1659, 'bechard': 318, 'undoubtedly': 3996, 'homework': 1818, 'references': 3046, 'industry': 1933, 'appropriate': 172, 'hopefully': 1825, 'cox': 852, 'length': 2157, 'win': 4233, 'somewhat': 3485, 'afraid': 70, 'enjoyed': 1260, 'pans': 2681, 'reviewers': 3131, 'indeed': 1923, 'mishima': 2397, 'complex': 745, 'terms': 3770, 'fresh': 1552, 'bold': 406, 'entertaining': 1265, 'nonetheless': 2526, 'steve': 3589, 'martin': 2305, 'upper': 4048, 'class': 669, 'uptight': 4051, 'veteran': 4098, 'nostalgia': 2534, 'trip': 3931, 'understatement': 3993, 'promote': 2910, 'wanting': 4150, 'paced': 2656, 'understated': 3992, 'courtroom': 846, 'documentaries': 1090, 'lovely': 2247, 'thriller': 3823, 'shenanigans': 3356, 'surrounding': 3695, 'murdered': 2463, 'spy': 3547, 'kidnapped': 2080, 'nasty': 2481, 'church': 661, 'foreign': 1521, 'random': 2984, 'taxidermists': 3744, 'four': 1539, 'themselves': 3793, 'hilarious': 1794, 'scenery': 3245, 'surprised': 3691, 'wholesome': 4219, 'faultless': 1404, 'photography': 2757, 'composition': 749, 'underappreciated': 3983, 'keith': 2070, 'bully': 483, 'teddy': 3754, 'vivid': 4121, 'history': 1801, 'designed': 995, 'stylized': 3643, 'role': 3170, 'played': 2791, 'timers': 3846, 'highlights': 1792, 'fundamental': 1581, 'legal': 2153, 'guilt': 1703, 'innocence': 1946, 'court': 844, 'animation': 137, 'dominated': 1099, 'cgi': 594, 'masterpieces': 2313, 'refreshing': 3048, 'comforting': 719, 'miyazaki': 2404, 'relying': 3079, 'traditional': 3903, 'charming': 619, 'enchanting': 1245, 'starring': 3559, 'jaclyn': 2020, 'smith': 3457, 'depicts': 980, 'sea': 3270, 'vessel': 4097, 'taken': 3719, 'mighty': 2385, 'frost': 1565, 'nicola': 2513, 'roeg': 3169, 'wih': 4226, 'sublime': 3646, 'dwight': 1168, 'schultz': 3252, 'shed': 3351, 'tear': 3750, 'daughters': 929, 'paint': 2668, 'photograph': 2756, 'french': 1550, 'cancan': 529, 'boasts': 401, 'cutest': 913, 'leading': 2140, 'ladies': 2109, 'grace': 1666, 'bailey': 268, 'beautifully': 314, 'costumes': 834, 'eiko': 1216, 'ishioka': 2011, 'coppola': 822, 'dracula': 1119, 'deserved': 991, 'ursula': 4052, 'burton': 489, 'portrayal': 2833, 'nun': 2549, 'touching': 3893, 'nuns': 2550, 'timeless': 3844, 'kathy': 2065, 'bates': 297, 'subtle': 3649, 'desperation': 999, 'escapism': 1283, 'variation': 4078, 'fields': 1429, 'general': 1610, 'loewenhielm': 2216, 'exquisite': 1351, 'partaking': 2690, 'cailles': 512, 'en': 1244, 'sarcophage': 3220, 'sample': 3210, 'savor': 3234, 'kieslowski': 2082, 'ceases': 579, 'amaze': 109, 'powerful': 2850, 'explorations': 1348, 'ways': 4178, 'modern': 2409, 'equivalent': 1275, 'dickens': 1026, 'carol': 547, 'sensibility': 3307, 'possibly': 2840, 'creative': 875, 'feelings': 1416, 'gabriel': 1588, 'intangibles': 1969, 'leap': 2143, 'viewer': 4105, 'grasp': 1672, 'huston': 1864, 'poised': 2817, 'connections': 774, 'errol': 1280, 'flynn': 1499, 'custer': 907, 'become': 319, 'favourite': 1410, 'julian': 2057, 'fellowes': 1423, 'triumphed': 3934, 'armand': 180, 'assante': 203, 'intentions': 1977, 'greatest': 1677, 'genius': 1615, 'passion': 2696, 'taking': 3722, 'score': 3255, 'integral': 1970, 'element': 1223, 'helping': 1775, 'enjoyable': 1259, 'cartoon': 556, 'deserves': 992, 'kudos': 2103, 'exceptional': 1320, 'choices': 654, 'parents': 2687, 'predict': 2857, 'verbatim': 4091, 'selections': 3298, 'track': 3901, 'commands': 722, 'sentiment': 3311, 'contributing': 804, 'poler': 2818, 'kinda': 2088, 'question': 2965, 'fort': 1533, 'steele': 3580, 'provoking': 2931, 'forces': 1519, 'threshold': 3820, 'loneliness': 2219, 'natural': 2484, 'confidence': 765, 'scream': 3259, 'ranks': 2987, 'ps': 2932, 'blown': 392, 'european': 1293, 'throwback': 3827, 'student': 3632, 'experiences': 1344, 'abroad': 7, 'interacting': 1978, 'nationalities': 2483, 'circumstances': 666, 'slightly': 3438, 'mickey': 2379, 'turkey': 3954, 'straw': 3614, 'imaginative': 1891, 'occasionally': 2558, 'cruel': 892, 'gripping': 1689, 'overly': 2640, 'theatrical': 3787, 'terror': 3774, 'lie': 2172, 'escalating': 1282, 'monstrous': 2423, 'consequences': 777, 'telly': 3761, 'savalas': 3230, 'peter': 2744, 'boyle': 434, 'matrix': 2316, 'sequels': 3313, 'appreciate': 171, 'mindblowing': 2389, 'miss': 2399, 'emilio': 1234, 'estevez': 1289, 'debut': 943, 'pacing': 2657, 'interplay': 1986, 'suggest': 3663, 'tons': 3873, 'granted': 1670, 'crowd': 890, 'pleaser': 2799, 'stunning': 3636, 'fx': 1587, 'jimmy': 2038, 'stewart': 3590, 'hero': 1783, 'rips': 3154, 'along': 99, 'climax': 681, 'embassy': 1232, 'function': 1578, 'brooding': 460, 'menace': 2358, 'revealing': 3126, 'complexity': 746, 'task': 3737, 'challenges': 597, 'facing': 1368, 'riot': 3151, 'hugo': 1849, 'weaving': 4186, 'gay': 1604, 'estate': 1288, 'salesman': 3203, 'uses': 4063, 'clients': 680, 'houses': 1843, 'trysts': 3948, 'flaming': 1468, 'darren': 924, 'tom': 3866, 'hollander': 1813, 'routine': 3178, 'views': 4107, 'barcelona': 281, 'famed': 1385, 'gaudi': 1602, 'towers': 3896, 'situations': 3418, 'coach': 690, 'fascinating': 1398, 'wayne': 4177, 'brilliance': 451, 'showed': 3380, 'government': 1664, 'scientist': 3254, 'argued': 177, 'humanity': 1851, 'reasons': 3022, 'heart': 1757, 'dancing': 921, 'title': 3855, 'wilkinson': 4229, 'emily': 1235, 'watson': 4173, 'checking': 627, 'creates': 874, 'universe': 4013, 'readers': 3010, 'melville': 2351, 'helen': 1767, 'baxendale': 303, 'credible': 878, 'lady': 2110, 'macbeth': 2265, 'cheerfull': 630, 'naughty': 2486, 'deadly': 934, 'taste': 3738, 'gloriously': 1641, 'accurate': 29, 'raver': 2999, 'extraordinary': 1358, 'babie': 256, 'bop': 415, 'finale': 1445, 'trilogy': 3929, 'exemplars': 1333, 'designer': 996, 'children': 644, 'spoiler': 3540, 'survivors': 3698, 'ferry': 1426, 'valentine': 4072, 'judge': 2053, 'solidifying': 3479, 'happiness': 1731, 'suffering': 3659, 'dealt': 938, 'elias': 1224, 'koteas': 2099, 'palance': 2672, 'angelina': 130, 'cameo': 524, 'sven': 3701, 'ole': 2580, 'thorsen': 3813, 'helps': 1776, 'nevertheless': 2506, 'stable': 3549, 'sibling': 3384, 'bond': 407, 'leaves': 2149, 'impression': 1904, 'unneeded': 4021, 'controversy': 808, 'cutting': 916, 'move': 2447, 'surface': 3689, 'superbly': 3677, 'crafted': 859, 'fascinated': 1397, 'watkins': 4172, 'accessible': 21, 'ebay': 1194, 'snow': 3467, 'massive': 2309, 'unlockable': 4017, 'skilled': 3422, 'damian': 918, 'versatile': 4094, 'contained': 794, 'th': 3777, 'arts': 193, 'remarkable': 3082, 'thrilled': 3822, 'inspiring': 1955, 'hope': 1824, 'dvd': 1167, 'hbo': 1746, 'reminded': 3084, 'evinced': 1308, 'faithful': 1377, 'adaptation': 50, 'joyce': 2051, 'acclaimed': 25, 'novella': 2543, 'war': 4152, 'amusing': 123, 'future': 1585, 'goremeister': 1658, 'lucio': 2255, 'thoroughly': 3812, 'christopher': 660, 'eccleston': 1196, 'tardis': 3734, 'continuation': 798, 'trond': 3935, 'fausa': 1405, 'aurvåg': 230, 'bothersome': 424, 'duris': 1165, 'angus': 134, 'scrimm': 3265, 'brief': 448, 'gently': 1617, 'menacing': 2359, 'anatomist': 125, 'doctor': 1089, 'quinn': 2971, 'lilt': 2188, 'step': 3584, 'identify': 1876, 'dangerous': 922, 'stephen': 3585, 'mchattie': 2322, 'lance': 2112, 'hendrikson': 1778, 'raging': 2980, 'cheekbones': 629, 'murky': 2465, 'related': 3064, 'repair': 3094, 'reactions': 3008, 'bitchy': 372, 'boss': 421, 'popular': 2826, 'plenty': 2801, 'laughs': 2134, 'significant': 3393, 'undertone': 3994, 'fifties': 1431, 'existential': 1334, 'aerial': 65, 'ought': 2620, 'deeply': 954, 'humour': 1859, 'apt': 174, 'tremendously': 3924, 'kevin': 2072, 'spacey': 3517, 'verbal': 4090, 'tsunami': 3949, 'buddy': 471, 'ackerman': 35, 'structure': 3629, 'tightly': 3841, 'shined': 3358, 'senior': 3304, 'buffet': 474, 'science': 3253, 'teacher': 3747, 'transfers': 3908, 'sour': 3508, 'struck': 3628, 'tying': 3964, 'acted': 38, 'belmondo': 344, 'lino': 2196, 'ventura': 4086, 'fleshed': 1483, 'grimes': 1687, 'blake': 380, 'deliver': 972, 'sharply': 3347, 'scripted': 3267, 'deadpan': 935, 'tongue': 3871, 'cheek': 628, 'ray': 3003, 'charles': 616, 'himself': 1797, 'proudly': 2924, 'classical': 671, 'wb': 4180, 'cartoons': 557, 'interview': 1988, 'vampire': 4075, 'lestat': 2163, 'stuart': 3631, 'townsend': 3898, 'cruise': 893, 'woven': 4288, 'dogs': 1095, 'splendid': 3538, 'view': 4104, 'continuously': 801, 'bertolucci': 351, 'relationships': 3068, 'convincing': 817, 'narration': 2479, 'thus': 3834, 'flashbacks': 1470, 'articulated': 189, 'italian': 2014, 'thrillers': 3824, 'juano': 2052, 'hernandez': 1782, 'supporting': 3683, 'murdering': 2464, 'phrase': 2758, 'owed': 2648, 'twist': 3961, 'lifetime': 2176, 'sells': 3301, 'team': 3749, 'behind': 331, 'charismatic': 615, 'constantine': 785, 'intensity': 1976, 'underlying': 3987, 'psychological': 2934, 'motivations': 2438, 'secondly': 3286, 'perfected': 2729, 'chase': 620, 'paolo': 2683, 'sorrentino': 3497, 'tony': 3874, 'unforgettable': 4000, 'older': 2579, 'meredith': 2365, 'sat': 3222, 'riveted': 3158, 'sad': 3195, 'indication': 1927, 'meld': 2346, 'volatile': 4124, 'temperaments': 3762, 'seamless': 3273, 'union': 4008, 'creativity': 876, 'baby': 257, 'owls': 2649, 'delightful': 969, 'dr': 1118, 'seuss': 3334, 'brilliantly': 453, 'animated': 136, 'upa': 4042, 'finest': 1450, 'academy': 15, 'award': 242, 'national': 2482, 'treasure': 3919, 'judging': 2054, 'fumbling': 1576, 'hankies': 1725, 'faces': 1366, 'among': 119, 'males': 2287, 'females': 1425, 'alike': 90, 'delights': 970, 'surprises': 3692, 'monica': 2418, 'bellucci': 342, 'elaborately': 1218, 'aesthetically': 66, 'sculpture': 3269, 'commentary': 723, 'canada': 528, 'aye': 251, 'humorous': 1858, 'parts': 2693, 'compelling': 736, 'indictment': 1928, 'justice': 2061, 'system': 3711, 'notch': 2537, 'condescends': 762, 'hearts': 1758, 'raw': 3002, 'sublimely': 3647, 'northern': 2533, 'positive': 2837, 'community': 731, 'represents': 3104, 'eloquently': 1226, 'francis': 1543, 'ford': 1520, 'unfolds': 3999, 'gradually': 1668, 'develop': 1013, 'directors': 1045, 'critical': 886, 'sweet': 3703, 'jutland': 2062, 'instruments': 1964, 'require': 3106, 'sister': 3413, 'spoil': 3539, 'overdue': 2638, 'tale': 3723, 'wrap': 4290, 'taped': 3733, 'episodes': 1272, 'excellently': 1317, 'producers': 2899, 'scot': 3256, 'vandiver': 4076, 'relaxing': 3073, 'late': 2126, 'viewing': 4106, 'portrayals': 2834, 'detailing': 1010, 'loyalty': 2254, 'treachery': 3918, 'steamboat': 3579, 'willie': 4231, 'amazingly': 112, 'poignant': 2813, 'southern': 3512, 'california': 517, 'desert': 990, 'patent': 2701, 'faux': 1406, 'applause': 168, 'prelude': 2862, 'heartwarming': 1759, 'chasing': 621, 'dreams': 1132, 'gem': 1609, 'achille': 34, 'philippa': 2750, 'sing': 3407, 'duet': 1157, 'don': 1100, 'giovanni': 1629, 'describes': 986, 'situation': 3417, 'layers': 2137, 'renowned': 3092, 'silent': 3396, 'frances': 1542, 'marion': 2300, 'flowed': 1493, 'hoot': 1823, 'ms': 2454, 'learn': 2144, 'artist': 191, 'toons': 3879, 'vibe': 4100, 'delivered': 973, 'underrated': 3989, 'idyllic': 1879, 'downs': 1114, 'lives': 2207, 'suggests': 3665, 'brings': 455, 'tensions': 3767, 'served': 3322, 'apart': 155, 'inappropriate': 1913, 'smiling': 3456, 'keira': 2069, 'knightley': 2093, 'prone': 2914, 'theatres': 3786, 'television': 3759, 'true': 3938, 'politics': 2821, 'japanese': 2024, 'considered': 780, 'unique': 4009, 'journey': 2049, 'member': 2352, 'mouse': 2443, 'plane': 2779, 'crazy': 868, 'famous': 1388, 'resounding': 3111, 'linda': 2190, 'cardellini': 543, 'generates': 1612, 'contrast': 803, 'austere': 232, 'backdrop': 260, 'latched': 2125, 'endearing': 1248, 'soul': 3501, 'peculiarity': 2721, 'lion': 2197, 'rendering': 3089, 'imperial': 1899, 'dream': 1130, 'nine': 2516, 'empowerment': 1241, 'decay': 945, 'shakespears': 3339, 'lyrics': 2263, 'conceptually': 757, 'everybody': 1301, 'fantasy': 1393, 'lesser': 2161, 'vitally': 4119, 'occurs': 2562, 'unconditional': 3979, 'trumbull': 3941, 'treat': 3920, 'anthony': 145, 'horse': 1834, 'alexander': 89, 'nevsky': 2507, 'street': 3617, 'charlie': 617, 'genre': 1616, 'heaven': 1761, 'nut': 2551, 'vivian': 4120, 'schilling': 3247, 'astronaut': 209, 'considers': 782, 'cold': 699, 'crashed': 864, 'ussr': 4065, 'alongside': 100, 'olivia': 2582, 'de': 932, 'havilland': 1741, 'inventive': 1992, 'pointillistic': 2815, 'behold': 333, 'ages': 77, 'younger': 4312, 'galley': 1591, 'educational': 1204, 'marriage': 2303, 'garbo': 1598, 'bat': 296, 'talents': 3726, 'netflix': 2503, 'stocking': 3597, 'owns': 2653, 'spacek': 3516, 'coal': 691, 'miner': 2390, 'quaid': 2960, 'balls': 275, 'masterpiece': 2312, 'largely': 2118, 'sean': 3275, 'connery': 775, 'noble': 2518, 'brigand': 449, 'candace': 532, 'bergen': 350, 'feisty': 1419, 'heroine': 1785, 'wily': 4232, 'hay': 1744, 'kanaly': 2064, 'spiffy': 3535, 'radiant': 2979, 'lieutenant': 2174, 'roosevelt': 3175, 'stick': 3591, 'excerpts': 1322, 'drawings': 1129, 'colorful': 706, 'fanciful': 1390, 'barney': 286, 'duper': 1162, 'jason': 2025, 'moved': 2448, 'tears': 3751, 'monolog': 2420, 'candle': 533, 'sphere': 3531, 'moral': 2429, 'dark': 923, 'jennifer': 2029, 'rubin': 3184, 'jamie': 2023, 'harris': 1734, 'changes': 600, 'nervous': 2502, 'starlet': 3558, 'events': 1297, 'location': 2211, 'lies': 2173, 'screamy': 3260, 'masculine': 2308, 'forgotten': 1529, 'heche': 1763, 'applauded': 167, 'ryans': 3193, 'portrayed': 2835, 'schizophrenic': 3248, 'affected': 67, 'known': 2097, 'dads': 917, 'grew': 1682, 'whoever': 4217, 'lived': 2206, 'writers': 4294, 'smack': 3446, 'bonus': 409, 'muppets': 2461, 'casted': 566, 'worthy': 4284, 'trap': 3915, 'syrupy': 3710, 'indulgent': 1931, 'unprofessional': 4025, 'rude': 3185, 'loyal': 2253, 'patron': 2706, 'building': 478, 'bathroom': 298, 'trippy': 3932, 'eat': 1191, 'noca': 2520, 'food': 1511, 'tables': 3714, 'restaurant': 3115, 'luke': 2259, 'warm': 4153, 'sever': 3335, 'overwhelmed': 2646, 'chicken': 641, 'wings': 4239, 'driest': 1139, 'meat': 2332, 'eaten': 1192, 'ambiance': 114, 'douchey': 1109, 'indoor': 1930, 'garden': 1599, 'tea': 3746, 'biscuits': 369, 'flavor': 1472, 'texture': 3776, 'grandmother': 1669, 'roasted': 3162, 'servers': 3324, 'shrimp': 3383, 'stir': 3596, 'fried': 1555, 'noodles': 2528, 'crostini': 888, 'salad': 3201, 'stale': 3553, 'live': 2205, 'neighborhood': 2500, 'yourself': 4314, 'steakhouse': 3576, 'cook': 819, 'steak': 3575, 'salt': 3207, 'batter': 300, 'chewy': 639, 'airline': 84, 'selection': 3297, 'vegas': 4080, 'insults': 1968, 'profound': 2907, 'deuchebaggery': 1012, 'serving': 3328, 'solidify': 3478, 'host': 1835, 'staff': 3550, 'bitches': 371, 'brunch': 466, 'fail': 1372, 'disapppointment': 1055, 'entrees': 1269, 'par': 2686, 'denny': 977, 'suck': 3654, 'wait': 4137, 'correction': 829, 'server': 3323, 'heimer': 1764, 'starving': 3566, 'pale': 2674, 'char': 603, 'gyros': 1707, 'missing': 2401, 'scallop': 3240, 'dish': 1067, 'husband': 1863, 'apologize': 156, 'poured': 2847, 'wound': 4287, 'drawing': 1128, 'proclaimed': 2895, 'coffee': 697, 'cafe': 511, 'wildly': 4228, 'fridays': 1554, 'blows': 393, 'bay': 304, 'plater': 2788, 'descriptions': 989, 'yum': 4319, 'sauce': 3227, 'eel': 1206, 'spicy': 3534, 'mayo': 2321, 'sauces': 3228, 'eating': 1193, 'bachi': 258, 'burger': 486, 'pizza': 2772, 'door': 1105, 'services': 3327, 'manager': 2293, 'fireball': 1457, 'bellagio': 339, 'anticipated': 146, 'toasted': 3859, 'muffin': 2458, 'untoasted': 4036, 'anytime': 151, 'treated': 3921, 'anyways': 153, 'filling': 1438, 'albondigas': 88, 'soup': 3506, 'tasted': 3739, 'tomato': 3867, 'frozen': 1566, 'meatballs': 2333, 'overcooked': 2637, 'charcoal': 607, 'figured': 1433, 'publicly': 2938, 'loudly': 2241, 'postinos': 2842, 'hopes': 1827, 'burgers': 487, 'cooked': 820, 'grill': 1684, 'fell': 1420, 'hi': 1786, 'crust': 895, 'sore': 3495, 'acknowledged': 36, 'forgetting': 1527, 'spinach': 3536, 'avocado': 238, 'ingredients': 1945, 'dressing': 1136, 'mains': 2276, 'uninspired': 4004, 'sashimi': 3221, 'soggy': 3473, 'tasteless': 3740, 'mac': 2264, 'sushi': 3699, 'lover': 2248, 'cashew': 561, 'cream': 870, 'vegetables': 4081, 'undercooked': 3985, 'establishment': 1287, 'doughy': 1111, 'flavorless': 1475, 'spends': 3528, 'bye': 505, 'tip': 3851, 'clean': 673, 'fly': 1497, 'apple': 169, 'juice': 2056, 'brought': 462, 'asked': 198, 'godfathers': 1648, 'tough': 3894, 'beer': 326, 'friend': 1556, 'pasta': 2698, 'touched': 3891, 'bagels': 267, 'grocery': 1691, 'binge': 365, 'drinking': 1143, 'carbs': 540, 'stomach': 3600, 'excuse': 1330, 'wine': 4237, 'ignored': 1883, 'hostess': 1836, 'connoisseur': 776, 'owners': 2652, 'angry': 133, 'pho': 2751, 'sangria': 3217, 'glass': 1639, 'eew': 1207, 'needs': 2495, 'overhaul': 2639, 'occasions': 2559, 'medium': 2340, 'bloodiest': 390, 'plate': 2787, 'dishes': 1068, 'prepare': 2865, 'bare': 282, 'oil': 2574, 'favor': 1408, 'thai': 3778, 'olives': 2581, 'grossed': 1693, 'disagree': 1048, 'fellow': 1422, 'yelpers': 4307, 'waited': 4138, 'thirty': 3808, 'seated': 3282, 'vacant': 4070, 'folks': 1505, 'attack': 217, 'downtown': 1115, 'burrittos': 488, 'potatoes': 2844, 'rubber': 3183, 'ahead': 80, 'warmer': 4154, 'desired': 998, 'overpriced': 2643, 'caught': 572, 'inspired': 1954, 'pan': 2677, 'cakes': 514, 'raving': 3000, 'sugary': 3662, 'tailored': 3717, 'palate': 2673, 'six': 3419, 'table': 3713, 'cow': 851, 'gristle': 1690, 'disgusted': 1065, 'attentive': 224, 'law': 2135, 'mall': 2288, 'ate': 211, 'potato': 2843, 'chip': 648, 'count': 838, 'chips': 651, 'tasty': 3742, 'mid': 2382, 'lunch': 2261, 'seafood': 3271, 'boiled': 405, 'crab': 854, 'legs': 2155, 'sucker': 3656, 'smelled': 3453, 'grease': 1674, 'ground': 1694, 'smeared': 3451, 'green': 1680, 'bird': 367, 'poop': 2822, 'bill': 362, 'equally': 1273, 'rave': 2998, 'cheeseburger': 633, 'patty': 2708, 'uploaded': 4047, 'caterpillar': 571, 'pizzas': 2773, 'attached': 216, 'rarely': 2990, 'besides': 352, 'costco': 832, 'management': 2292, 'grab': 1665, 'bite': 373, 'familiar': 1386, 'pub': 2936, 'gyro': 1706, 'lettuce': 2167, 'prices': 2880, 'inflate': 1940, 'portions': 2831, 'smaller': 3448, 'attitudes': 225, 'grow': 1697, 'rapidly': 2988, 'appetizer': 165, 'outta': 2631, 'waiter': 4139, 'jerk': 2030, 'crumby': 894, 'ensued': 1262, 'pucks': 2939, 'disgust': 1064, 'register': 3056, 'fries': 1559, 'worries': 4277, 'stepped': 3586, 'foot': 1513, 'concern': 758, 'mellow': 2347, 'mushroom': 2466, 'despicable': 1000, 'beef': 322, 'shoe': 3365, 'hello': 1770, 'appetite': 164, 'instantly': 1960, 'consistent': 783, 'boba': 403, 'finish': 1454, 'bites': 374, 'anymore': 148, 'meh': 2344, 'cashier': 562, 'wayyy': 4179, 'rice': 3139, 'classics': 672, 'sorely': 3496, 'arriving': 186, 'busy': 493, 'tuna': 3952, 'brownish': 463, 'sadly': 3196, 'gordon': 1656, 'ramsey': 2981, 'shall': 3340, 'chipolte': 649, 'ranch': 2982, 'dipping': 1038, 'sause': 3229, 'watered': 4170, 'heat': 1760, 'strike': 3622, 'rushed': 3190, 'tops': 3883, 'relocated': 3078, 'spaghetti': 3518, 'martini': 2306, 'rock': 3166, 'casino': 564, 'forward': 1536, 'similar': 3400, 'silently': 3397, 'privileged': 2887, 'liking': 2186, 'reviewing': 3132, 'beans': 308, 'moods': 2428, 'restaurants': 3116, 'disgraceful': 1063, 'realized': 3017, 'hurry': 1861, 'dirt': 1046, 'negligent': 2498, 'unwelcome': 4039, 'focused': 1503, 'carly': 546, 'stretch': 3620, 'shower': 3381, 'rinse': 3150, 'nude': 2545, 'dining': 1035, 'seating': 3283, 'reservation': 3109, 'strings': 3624, 'gold': 1651, 'oysters': 2654, 'blame': 381, 'packed': 2661, 'kabuki': 2063, 'rolled': 3172, 'ratio': 2997, 'tenders': 3765, 'unsatisfying': 4034, 'lovers': 2249, 'honest': 1819, 'yama': 4299, 'swung': 3707, 'girlfriend': 1631, 'veal': 4079, 'ians': 1870, 'witnessed': 4252, 'waaaaaayyyyyyyyyy': 4134, 'melted': 2350, 'styrofoam': 3644, 'workers': 4273, 'menu': 2362, 'bloody': 391, 'mary': 2307, 'similarly': 3401, 'delivery': 976, 'apology': 157, 'ignore': 1882, 'blandest': 383, 'preparing': 2867, 'indian': 1925, 'cuisine': 899, 'dine': 1034, 'weekend': 4192, 'breakfast': 440, 'leftover': 2152, 'cheese': 632, 'lukewarm': 2260, 'helped': 1773, 'honor': 1821, 'hut': 1865, 'coupons': 842, 'based': 292, 'gratitude': 1673, 'salmon': 3204, 'nachos': 2475, 'stood': 3601, 'insulted': 1967, 'disrespected': 1075, 'shocked': 3364, 'indicate': 1926, 'cash': 560, 'ache': 32, 'refried': 3049, 'meal': 2325, 'dried': 1138, 'crusty': 896, 'chains': 595, 'dinner': 1036, 'presentation': 2869, 'bathrooms': 299, 'covers': 850, 'replenished': 3102, 'yucky': 4317, 'bouchon': 427, 'staying': 3573, 'mirage': 2395, 'bodes': 404, 'serves': 3325, 'egg': 1213, 'officially': 2570, 'fella': 1421, 'huevos': 1847, 'rancheros': 2983, 'unwrapped': 4040, 'mile': 2386, 'brushfire': 468, 'ice': 1871, 'excalibur': 1312, 'common': 728, 'garlic': 1600, 'fondue': 1510, 'edible': 1201, 'humiliated': 1853, 'worker': 4272, 'name': 2476, 'callings': 521, 'gross': 1692, 'actual': 47, 'paying': 2711, 'dog': 1094, 'wienerschnitzel': 4224, 'describing': 987, 'tepid': 3768, 'recall': 3023, 'tap': 3730, 'water': 4169, 'dripping': 1145, 'elk': 1225, 'filet': 1435, 'bus': 490, 'ri': 3136, 'calamari': 515, 'tacos': 3716, 'combo': 710, 'ala': 86, 'cart': 555, 'fucking': 1570, 'banana': 277, 'petrified': 2745, 'curry': 905, 'bamboo': 276, 'shoots': 3368, 'complain': 739, 'furthermore': 1584, 'operation': 2599, 'dressed': 1135, 'rudely': 3186, 'theft': 3788, 'concept': 755, 'edinburgh': 1202, 'revisiting': 3134, 'businesses': 492, 'decided': 947, 'verge': 4092, 'inconsiderate': 1919, 'sliced': 3430, 'brisket': 456, 'pulled': 2942, 'pork': 2827, 'con': 753, 'spotty': 3544, 'needless': 2493, 'freezing': 1549, 'madhouse': 2269, 'coconut': 695, 'meals': 2326, 'tolerance': 3865, 'polite': 2819, 'wash': 4160, 'article': 188, 'read': 3009, 'spices': 3533, 'mortified': 2434, 'imagined': 1893, 'dessert': 1003, 'employee': 1240, 'refill': 3047, 'del': 963, 'taco': 3715, 'forty': 1535, 'vain': 4071, 'pissd': 2768, 'drinks': 1144, 'suffers': 3660, 'sandwich': 3215, 'bigger': 360, 'subway': 3650, 'sub': 3645, 'plantains': 2783, 'customers': 909, 'closed': 687, 'roast': 3161, 'visit': 4115, 'firehouse': 1458, 'dylan': 1170, 'recommendation': 3038, 'yummy': 4320, 'tummy': 3951, 'handling': 1717, 'rowdy': 3180, 'rib': 3137, 'section': 3288, 'professional': 2903, 'steaks': 3577, 'loving': 2251, 'brick': 447, 'oven': 2632, 'bread': 437, 'app': 158, 'delicious': 966, 'satifying': 3223, 'informative': 1942, 'buffets': 475, 'margaritas': 2299, 'duck': 1154, 'hereas': 1781, 'tribute': 3926, 'event': 1296, 'held': 1766, 'mgm': 2376, 'bacon': 264, 'hella': 1769, 'salty': 3208, 'beauty': 315, 'mexican': 2375, 'meats': 2335, 'choose': 655, 'iced': 1872, 'inviting': 1994, 'flavourful': 1477, 'genuinely': 1619, 'enthusiastic': 1266, 'wines': 4238, 'serivce': 3320, 'mouths': 2446, 'bellies': 340, 'cheesecurds': 634, 'ribeye': 3138, 'mesquite': 2367, 'customize': 910, 'eggplant': 1214, 'bean': 307, 'decorated': 951, 'vinegrette': 4110, 'sals': 3205, 'grilled': 1685, 'legit': 2154, 'elegantly': 1222, 'phoenix': 2752, 'definately': 959, 'regular': 3060, 'trips': 3933, 'def': 955, 'bowl': 430, 'serve': 3321, 'naan': 2474, 'hummus': 1856, 'pine': 2765, 'lemon': 2156, 'raspberry': 2991, 'cocktail': 693, 'tender': 3764, 'flavored': 1473, 'chef': 637, 'generous': 1614, 'absolutley': 11, 'moist': 2411, 'bank': 279, 'holiday': 1812, 'rick': 3140, 'accident': 23, 'panna': 2680, 'cotta': 835, 'visited': 4116, 'velvet': 4085, 'cake': 513, 'ohhh': 2573, 'nigiri': 2515, 'hooked': 1822, 'drink': 1142, 'suggestions': 3664, 'rge': 3135, 'fillet': 1437, 'relleno': 3077, 'jalapeno': 2021, 'soooo': 3493, 'weekly': 4193, 'haunt': 1739, 'portion': 2830, 'sooooo': 3494, 'jewel': 2035, 'las': 2119, 'fav': 1407, 'tartar': 3735, 'yellowtail': 4306, 'carpaccio': 548, 'melt': 2349, 'assure': 207, 'colder': 700, 'pears': 2718, 'almonds': 96, 'homemade': 1817, 'dough': 1110, 'madison': 2270, 'ironman': 2006, 'located': 2210, 'crystals': 898, 'shopping': 3369, 'aria': 178, 'eclectic': 1198, 'otto': 2619, 'welcome': 4197, 'sunday': 3672, 'pita': 2769, 'vanilla': 4077, 'creamy': 871, 'smooth': 3460, 'profiterole': 2906, 'choux': 657, 'pastry': 2700, 'regularly': 3061, 'joint': 2044, 'tigerlilly': 3839, 'tastings': 3741, 'jeff': 2028, 'appetizers': 166, 'succulent': 3652, 'baseball': 291, 'ayce': 250, 'bloddy': 388, 'hole': 1810, 'greek': 1679, 'flavorful': 1474, 'vinaigrette': 4109, 'extensive': 1353, 'provides': 2928, 'eggs': 1215, 'affordable': 69, 'bartender': 289, 'personable': 2741, 'spice': 3532, 'sun': 3671, 'flavors': 1476, 'slaw': 3427, 'drenched': 1134, 'trimmed': 3930, 'providing': 2929, 'join': 2043, 'club': 689, 'via': 4099, 'email': 1229, 'voodoo': 4130, 'gluten': 1644, 'perpared': 2738, 'giant': 1626, 'slices': 3431, 'dusted': 1166, 'powdered': 2848, 'sugar': 3661, 'sticks': 3592, 'desserts': 1004, 'perfection': 2730, 'impeccable': 1898, 'tots': 3889, 'onion': 2590, 'rings': 3148, 'surprise': 3690, 'sunglasses': 3673, 'typical': 3966, 'pack': 2658, 'tiramisu': 3853, 'cannoli': 534, 'die': 1028, 'veggitarian': 4082, 'platter': 2789, 'lil': 2187, 'tapas': 3731, 'ambience': 115, 'fuzzy': 1586, 'relax': 3071, 'topic': 3882, 'crowds': 891, 'juries': 2059, 'lawyers': 2136, 'companions': 733, 'healthy': 1753, 'ethic': 1291, 'petty': 2746, 'chipotle': 650, 'containers': 795, 'opposed': 2602, 'cramming': 860, 'takeout': 3720, 'boxes': 432, 'salads': 3202, 'meet': 2341, 'courteous': 845, 'decor': 950, 'shirt': 3363, 'delish': 971, 'nargile': 2478, 'saving': 3233, 'receives': 3028, 'exceeding': 1313, 'dreamed': 1131, 'wontons': 4264, 'highlighted': 1791, 'satisfying': 3225, 'occasional': 2557, 'pats': 2707, 'butter': 495, 'mmmm': 2405, 'outstanding': 2630, 'town': 3897, 'az': 252, 'bone': 408, 'marrow': 2304, 'added': 54, 'mood': 2427, 'returned': 3124, 'calligraphy': 520, 'craving': 865, 'caesar': 510, 'greeted': 1681, 'cape': 537, 'cod': 696, 'ravoli': 3001, 'cranberry': 861, 'pancake': 2678, 'outshining': 2628, 'halibut': 1712, 'mom': 2413, 'pumpkin': 2944, 'pancakes': 2679, 'pecan': 2720, 'fluffy': 1495, 'personally': 2743, 'baklava': 270, 'falafels': 1378, 'baba': 254, 'ganoush': 1595, 'deliciously': 967, 'seasoned': 3279, 'omg': 2584, 'sergeant': 3316, 'pepper': 2727, 'auju': 229, 'frenchman': 1551, 'guest': 1701, 'mein': 2345, 'crepe': 881, 'pricey': 2881, 'venture': 4087, 'further': 1583, 'philadelphia': 2749, 'sporting': 3542, 'walls': 4147, 'flair': 1466, 'bartenders': 290, 'croutons': 889, 'biscuit': 368, 'tucson': 3950, 'salsa': 3206, 'cocktails': 694, 'handmade': 1718, 'north': 2532, 'scottsdale': 3257, 'venturing': 4088, 'shawarrrrrrma': 3349, 'seasonal': 3278, 'fruit': 1567, 'peach': 2715, 'puree': 2955, 'reminds': 3085, 'pop': 2825, 'shops': 3370, 'san': 3212, 'francisco': 1544, 'hawaiian': 1743, 'breeze': 444, 'mango': 2294, 'magic': 2271, 'pineapple': 2766, 'delight': 968, 'smoothies': 3462, 'maintaining': 2278, 'coziness': 853, 'tater': 3743, 'southwest': 3513, 'bbq': 305, 'lighter': 2178, 'penne': 2723, 'vodka': 4122, 'hankering': 1724, 'quaint': 2961, 'peanut': 2717, 'steiners': 3583, 'opportunity': 2601, 'prepared': 2866, 'patio': 2704, 'summer': 3670, 'outdoor': 2623, 'meatloaf': 2334, 'crispy': 884, 'fo': 1501, 'absolute': 8, 'wrapped': 4291, 'dates': 927, 'plethora': 2802, 'sandwiches': 3216, 'seal': 3272, 'approval': 173, 'eyed': 1361, 'peas': 2719, 'unreal': 4026, 'evening': 1295, 'fiancé': 1428, 'middle': 2383, 'military': 2387, 'dude': 1155, 'caballero': 507, 'mouthful': 2445, 'relaxed': 3072, 'venue': 4089, 'couples': 841, 'groups': 1696, 'proven': 2925, 'opinion': 2600, 'gc': 1605, 'hits': 1805, 'quantity': 2964, 'pastas': 2699, 'crawfish': 866, 'strawberry': 3615, 'accomodate': 27, 'stuffed': 3635, 'finger': 1451, 'mixed': 2403, 'mushrooms': 2467, 'yukon': 4318, 'beateous': 311, 'group': 1695, 'claimed': 667, 'omelets': 2583, 'toro': 3884, 'tartare': 3736, 'cavier': 576, 'thinly': 3806, 'wagyu': 4136, 'truffle': 3939, 'yellow': 4305, 'saffron': 3197, 'seasoning': 3280, 'summarize': 3668, 'nay': 2488, 'transcendant': 3906, 'pneumatic': 2809, 'condiment': 763, 'dispenser': 1072, 'fs': 1569, 'duo': 1161, 'violinists': 4111, 'requested': 3105, 'goat': 1646, 'skimp': 3423, 'flower': 1494, 'soups': 3507, 'lordy': 2232, 'khao': 2078, 'soi': 3474, 'andddd': 127, 'unbelievably': 3976, 'efficient': 1211, 'gooodd': 1655, 'dinners': 1037, 'bruschetta': 467, 'devine': 1018, 'pink': 2767}\n",
      "Encoded Document is:\n",
      "[[0 0 0 ... 0 0 0]\n",
      " [0 0 0 ... 0 0 0]\n",
      " [0 0 0 ... 0 0 0]\n",
      " ...\n",
      " [0 0 0 ... 0 0 0]\n",
      " [0 0 0 ... 0 0 0]\n",
      " [0 0 0 ... 0 0 0]]\n"
     ]
    }
   ],
   "source": [
    "# Create a Vectorizer Object\n",
    "vectorizer = CountVectorizer()\n",
    " \n",
    "vectorizer.fit(processed_reviews)\n",
    " \n",
    "# Print the identified Unique words along with their indices\n",
    "print(\"Vocabulary: \", vectorizer.vocabulary_)\n",
    "\n",
    "# Encode the processed reviews\n",
    "x_processed = vectorizer.transform(processed_reviews)\n",
    " \n",
    "# Summarizing the Encoded Texts\n",
    "print(\"Encoded Document is:\")\n",
    "print(x_processed.toarray())"
   ]
  },
  {
   "cell_type": "markdown",
   "metadata": {},
   "source": [
    "<font size=\"5\">Split training set into training and validation set</font>"
   ]
  },
  {
   "cell_type": "code",
   "execution_count": 66,
   "metadata": {},
   "outputs": [
    {
     "name": "stdout",
     "output_type": "stream",
     "text": [
      "x_train shape = (1920, 4325)\n",
      "y_train shape = (1920,)\n",
      "x_val shape = (480, 4325)\n",
      "y_val shape = (480,)\n"
     ]
    }
   ],
   "source": [
    "x_train_processed, x_val_processed, y_train, y_val = train_test_split(x_processed, y_train_flat, test_size=0.2, random_state=42)\n",
    "print(f'x_train shape = {x_train_processed.shape}')\n",
    "print(f'y_train shape = {y_train.shape}')\n",
    "print(f'x_val shape = {x_val_processed.shape}')\n",
    "print(f'y_val shape = {y_val.shape}')"
   ]
  },
  {
   "cell_type": "code",
   "execution_count": 67,
   "metadata": {},
   "outputs": [],
   "source": [
    "# Create Logistic Regression model\n",
    "model = LogisticRegression()\n",
    "\n",
    "# Define scoring function based on scikitlearn cross_val_score\n",
    "def kfold_scores(model, x_tr, y_tr, cv=3, scoring='accuracy'):\n",
    "    scores = cross_val_score(model, x_tr, y_tr, cv=cv, scoring=scoring)\n",
    "\n",
    "    # Print the accuracy scores for each fold\n",
    "    print(f'For Folds = {cv}')\n",
    "    for i, score in enumerate(scores):\n",
    "        print(f'Fold {i+1} - ROC_AUC score: {score:.2f}')\n",
    "        \n",
    "    # Calculate and print the mean accuracy and standard deviation\n",
    "    mean_accuracy = scores.mean()\n",
    "    std_accuracy = scores.std()\n",
    "    print(f'Mean ROC_AUC score: {mean_accuracy:.2f} \\nStandard Deviation: {std_accuracy:.2f}')"
   ]
  },
  {
   "cell_type": "code",
   "execution_count": 68,
   "metadata": {},
   "outputs": [
    {
     "name": "stdout",
     "output_type": "stream",
     "text": [
      "For Folds = 3\n",
      "Fold 1 - ROC_AUC score: 0.86\n",
      "Fold 2 - ROC_AUC score: 0.84\n",
      "Fold 3 - ROC_AUC score: 0.88\n",
      "Mean ROC_AUC score: 0.86 \n",
      "Standard Deviation: 0.01\n"
     ]
    }
   ],
   "source": [
    "scores_k03 = kfold_scores(model, x_train_processed, y_train, cv=3, scoring='roc_auc')"
   ]
  },
  {
   "cell_type": "code",
   "execution_count": 69,
   "metadata": {},
   "outputs": [
    {
     "name": "stdout",
     "output_type": "stream",
     "text": [
      "For Folds = 5\n",
      "Fold 1 - ROC_AUC score: 0.88\n",
      "Fold 2 - ROC_AUC score: 0.85\n",
      "Fold 3 - ROC_AUC score: 0.84\n",
      "Fold 4 - ROC_AUC score: 0.87\n",
      "Fold 5 - ROC_AUC score: 0.89\n",
      "Mean ROC_AUC score: 0.87 \n",
      "Standard Deviation: 0.02\n"
     ]
    }
   ],
   "source": [
    "scores_k05 = kfold_scores(model, x_train_processed, y_train, cv=5, scoring='roc_auc')"
   ]
  },
  {
   "cell_type": "code",
   "execution_count": 70,
   "metadata": {},
   "outputs": [
    {
     "name": "stdout",
     "output_type": "stream",
     "text": [
      "For Folds = 10\n",
      "Fold 1 - ROC_AUC score: 0.88\n",
      "Fold 2 - ROC_AUC score: 0.88\n",
      "Fold 3 - ROC_AUC score: 0.83\n",
      "Fold 4 - ROC_AUC score: 0.88\n",
      "Fold 5 - ROC_AUC score: 0.85\n",
      "Fold 6 - ROC_AUC score: 0.84\n",
      "Fold 7 - ROC_AUC score: 0.90\n",
      "Fold 8 - ROC_AUC score: 0.84\n",
      "Fold 9 - ROC_AUC score: 0.91\n",
      "Fold 10 - ROC_AUC score: 0.90\n",
      "Mean ROC_AUC score: 0.87 \n",
      "Standard Deviation: 0.03\n"
     ]
    }
   ],
   "source": [
    "scores_k10 = kfold_scores(model, x_train_processed, y_train, cv=10, scoring='roc_auc')"
   ]
  },
  {
   "cell_type": "code",
   "execution_count": 71,
   "metadata": {},
   "outputs": [
    {
     "name": "stdout",
     "output_type": "stream",
     "text": [
      "For Folds = 15\n",
      "Fold 1 - ROC_AUC score: 0.89\n",
      "Fold 2 - ROC_AUC score: 0.91\n",
      "Fold 3 - ROC_AUC score: 0.85\n",
      "Fold 4 - ROC_AUC score: 0.84\n",
      "Fold 5 - ROC_AUC score: 0.88\n",
      "Fold 6 - ROC_AUC score: 0.86\n",
      "Fold 7 - ROC_AUC score: 0.88\n",
      "Fold 8 - ROC_AUC score: 0.82\n",
      "Fold 9 - ROC_AUC score: 0.86\n",
      "Fold 10 - ROC_AUC score: 0.87\n",
      "Fold 11 - ROC_AUC score: 0.90\n",
      "Fold 12 - ROC_AUC score: 0.86\n",
      "Fold 13 - ROC_AUC score: 0.91\n",
      "Fold 14 - ROC_AUC score: 0.92\n",
      "Fold 15 - ROC_AUC score: 0.88\n",
      "Mean ROC_AUC score: 0.87 \n",
      "Standard Deviation: 0.03\n"
     ]
    }
   ],
   "source": [
    "scores_k15 = kfold_scores(model, x_train_processed, y_train, cv=15, scoring='roc_auc')"
   ]
  },
  {
   "cell_type": "markdown",
   "metadata": {},
   "source": [
    "k = 5 seems sufficient (highest score, lowest std dev.)"
   ]
  },
  {
   "cell_type": "markdown",
   "metadata": {},
   "source": [
    "<font size='10'>(Basic Preprocessing) Hyperparameter Selection with CV</font>"
   ]
  },
  {
   "cell_type": "markdown",
   "metadata": {},
   "source": [
    "For now will use only easily available hyperparameter for sklearn's LogistRegression classifier:\n",
    "- solver\n",
    "- regularization/penalty\n",
    "- c parameter"
   ]
  },
  {
   "cell_type": "code",
   "execution_count": 99,
   "metadata": {},
   "outputs": [],
   "source": [
    "import matplotlib.pyplot as plt\n",
    "\n",
    "from sklearn.model_selection import GridSearchCV\n",
    "from sklearn.model_selection import KFold\n",
    "from sklearn.linear_model import LogisticRegression\n",
    "from sklearn.metrics import RocCurveDisplay"
   ]
  },
  {
   "cell_type": "code",
   "execution_count": 94,
   "metadata": {},
   "outputs": [],
   "source": [
    "model = LogisticRegression(max_iter=200)\n",
    "solvers = ['newton-cg', 'lbfgs', 'liblinear']\n",
    "# penalty = ['l1', 'l2', 'elasticnet']\n",
    "penalty = ['l2'] # use l2 only since it's the only penalty supported by all 3 solvers\n",
    "c_values = np.logspace(-5, 5, num=11)\n",
    "\n",
    "grid = dict(solver=solvers, penalty=penalty, C=c_values)\n",
    "cv = KFold(n_splits=5, shuffle=True, random_state=42)\n",
    "           "
   ]
  },
  {
   "cell_type": "code",
   "execution_count": 95,
   "metadata": {},
   "outputs": [],
   "source": [
    "grid_search = GridSearchCV(estimator=model, param_grid=grid, cv=cv, n_jobs=-1, scoring='roc_auc')\n",
    "grid_result = grid_search.fit(x_train_processed, y_train)"
   ]
  },
  {
   "cell_type": "code",
   "execution_count": 96,
   "metadata": {},
   "outputs": [
    {
     "name": "stdout",
     "output_type": "stream",
     "text": [
      "Best: 0.866863 using {'C': 1.0, 'penalty': 'l2', 'solver': 'lbfgs'}\n",
      "0.724480 (0.019752) with: {'C': 1e-05, 'penalty': 'l2', 'solver': 'newton-cg'}\n",
      "0.724388 (0.020013) with: {'C': 1e-05, 'penalty': 'l2', 'solver': 'lbfgs'}\n",
      "0.724659 (0.021137) with: {'C': 1e-05, 'penalty': 'l2', 'solver': 'liblinear'}\n",
      "0.725137 (0.020066) with: {'C': 0.0001, 'penalty': 'l2', 'solver': 'newton-cg'}\n",
      "0.725137 (0.020052) with: {'C': 0.0001, 'penalty': 'l2', 'solver': 'lbfgs'}\n",
      "0.725489 (0.020805) with: {'C': 0.0001, 'penalty': 'l2', 'solver': 'liblinear'}\n",
      "0.733244 (0.019355) with: {'C': 0.001, 'penalty': 'l2', 'solver': 'newton-cg'}\n",
      "0.733260 (0.019327) with: {'C': 0.001, 'penalty': 'l2', 'solver': 'lbfgs'}\n",
      "0.733868 (0.020541) with: {'C': 0.001, 'penalty': 'l2', 'solver': 'liblinear'}\n",
      "0.773424 (0.016454) with: {'C': 0.01, 'penalty': 'l2', 'solver': 'newton-cg'}\n",
      "0.773424 (0.016467) with: {'C': 0.01, 'penalty': 'l2', 'solver': 'lbfgs'}\n",
      "0.773624 (0.016900) with: {'C': 0.01, 'penalty': 'l2', 'solver': 'liblinear'}\n",
      "0.839007 (0.009411) with: {'C': 0.1, 'penalty': 'l2', 'solver': 'newton-cg'}\n",
      "0.839012 (0.009408) with: {'C': 0.1, 'penalty': 'l2', 'solver': 'lbfgs'}\n",
      "0.839023 (0.009476) with: {'C': 0.1, 'penalty': 'l2', 'solver': 'liblinear'}\n",
      "0.866847 (0.008684) with: {'C': 1.0, 'penalty': 'l2', 'solver': 'newton-cg'}\n",
      "0.866863 (0.008688) with: {'C': 1.0, 'penalty': 'l2', 'solver': 'lbfgs'}\n",
      "0.866863 (0.008691) with: {'C': 1.0, 'penalty': 'l2', 'solver': 'liblinear'}\n",
      "0.862702 (0.010043) with: {'C': 10.0, 'penalty': 'l2', 'solver': 'newton-cg'}\n",
      "0.862702 (0.010043) with: {'C': 10.0, 'penalty': 'l2', 'solver': 'lbfgs'}\n",
      "0.862712 (0.010032) with: {'C': 10.0, 'penalty': 'l2', 'solver': 'liblinear'}\n",
      "0.853238 (0.011500) with: {'C': 100.0, 'penalty': 'l2', 'solver': 'newton-cg'}\n",
      "0.853238 (0.011512) with: {'C': 100.0, 'penalty': 'l2', 'solver': 'lbfgs'}\n",
      "0.853270 (0.011502) with: {'C': 100.0, 'penalty': 'l2', 'solver': 'liblinear'}\n",
      "0.845662 (0.013609) with: {'C': 1000.0, 'penalty': 'l2', 'solver': 'newton-cg'}\n",
      "0.845656 (0.013586) with: {'C': 1000.0, 'penalty': 'l2', 'solver': 'lbfgs'}\n",
      "0.845363 (0.013820) with: {'C': 1000.0, 'penalty': 'l2', 'solver': 'liblinear'}\n",
      "0.838841 (0.014892) with: {'C': 10000.0, 'penalty': 'l2', 'solver': 'newton-cg'}\n",
      "0.838781 (0.014833) with: {'C': 10000.0, 'penalty': 'l2', 'solver': 'lbfgs'}\n",
      "0.836410 (0.016772) with: {'C': 10000.0, 'penalty': 'l2', 'solver': 'liblinear'}\n",
      "0.833815 (0.015976) with: {'C': 100000.0, 'penalty': 'l2', 'solver': 'newton-cg'}\n",
      "0.833772 (0.015396) with: {'C': 100000.0, 'penalty': 'l2', 'solver': 'lbfgs'}\n",
      "0.822676 (0.018873) with: {'C': 100000.0, 'penalty': 'l2', 'solver': 'liblinear'}\n"
     ]
    }
   ],
   "source": [
    "print(\"Best: %f using %s\" % (grid_result.best_score_, grid_result.best_params_))\n",
    "means = grid_result.cv_results_['mean_test_score']\n",
    "stds = grid_result.cv_results_['std_test_score']\n",
    "params = grid_result.cv_results_['params']\n",
    "for mean, stdev, param in zip(means, stds, params):\n",
    "    print(\"%f (%f) with: %r\" % (mean, stdev, param))"
   ]
  },
  {
   "cell_type": "markdown",
   "metadata": {},
   "source": [
    "Choosing Best Parameters as statedt by the GridSearch results: C = 1.0, solver = lbfgs"
   ]
  },
  {
   "cell_type": "markdown",
   "metadata": {},
   "source": [
    "Now test with validation set"
   ]
  },
  {
   "cell_type": "code",
   "execution_count": 100,
   "metadata": {},
   "outputs": [],
   "source": [
    "chosen_penalty = 'l2'\n",
    "chosen_solver = 'lbfgs'\n",
    "chosen_c_value = 1.0"
   ]
  },
  {
   "cell_type": "code",
   "execution_count": 102,
   "metadata": {},
   "outputs": [],
   "source": [
    "chosen_model = LogisticRegression(penalty=chosen_penalty, solver=chosen_solver, C=chosen_c_value)\n",
    "chosen_model.fit(x_train_processed, y_train)\n",
    "yhat_val = chosen_model.predict(x_val_processed)"
   ]
  },
  {
   "cell_type": "code",
   "execution_count": 104,
   "metadata": {},
   "outputs": [
    {
     "data": {
      "text/plain": [
       "array([1, 0, 0, 0, 1, 0, 1, 0, 0, 0, 0, 0, 1, 1, 0, 0, 0, 0, 0, 0, 0, 1,\n",
       "       0, 1, 1, 1, 1, 0, 0, 0, 0, 0, 0, 0, 0, 0, 1, 1, 0, 0, 1, 1, 1, 1,\n",
       "       0, 0, 1, 1, 1, 1, 0, 0, 0, 0, 0, 1, 1, 1, 1, 1, 0, 1, 0, 1, 0, 1,\n",
       "       1, 1, 0, 1, 1, 0, 1, 0, 0, 0, 0, 0, 1, 1, 1, 1, 0, 1, 1, 0, 0, 1,\n",
       "       0, 0, 1, 1, 0, 1, 1, 1, 1, 1, 1, 0, 1, 1, 0, 0, 0, 0, 1, 0, 0, 1,\n",
       "       1, 0, 1, 0, 0, 1, 0, 0, 1, 1, 1, 0, 0, 0, 0, 0, 0, 1, 0, 0, 0, 0,\n",
       "       1, 0, 0, 1, 1, 0, 0, 1, 0, 0, 1, 1, 0, 1, 0, 1, 0, 1, 1, 1, 0, 0,\n",
       "       1, 0, 1, 0, 0, 0, 0, 0, 1, 0, 1, 1, 1, 0, 1, 1, 1, 1, 0, 0, 1, 1,\n",
       "       0, 0, 1, 1, 1, 1, 1, 1, 0, 1, 1, 0, 1, 0, 1, 1, 0, 1, 1, 0, 0, 1,\n",
       "       1, 0, 1, 0, 1, 1, 1, 0, 1, 1, 1, 0, 0, 1, 0, 0, 0, 1, 0, 1, 1, 1,\n",
       "       0, 1, 1, 1, 0, 1, 1, 0, 0, 0, 1, 1, 0, 0, 0, 0, 1, 1, 1, 0, 1, 1,\n",
       "       1, 1, 0, 1, 1, 1, 1, 0, 1, 1, 0, 1, 1, 1, 1, 0, 1, 0, 0, 1, 0, 0,\n",
       "       1, 1, 1, 0, 1, 0, 0, 1, 0, 0, 1, 1, 1, 0, 0, 1, 1, 1, 1, 0, 0, 1,\n",
       "       1, 0, 0, 1, 1, 1, 0, 1, 0, 0, 1, 0, 0, 0, 0, 0, 0, 1, 0, 1, 0, 0,\n",
       "       0, 0, 1, 0, 0, 1, 1, 1, 0, 1, 1, 1, 1, 0, 1, 0, 1, 0, 1, 0, 0, 0,\n",
       "       0, 0, 1, 1, 1, 0, 0, 0, 0, 1, 0, 1, 0, 0, 1, 1, 0, 1, 0, 1, 1, 1,\n",
       "       1, 0, 1, 1, 1, 1, 0, 0, 1, 0, 1, 0, 0, 0, 1, 0, 1, 1, 1, 0, 1, 0,\n",
       "       1, 0, 1, 1, 1, 1, 1, 1, 0, 0, 0, 0, 0, 1, 0, 0, 0, 0, 0, 0, 0, 0,\n",
       "       1, 0, 0, 1, 1, 1, 1, 0, 0, 0, 0, 1, 0, 0, 0, 1, 0, 1, 1, 0, 1, 1,\n",
       "       0, 0, 0, 1, 0, 0, 0, 0, 1, 1, 0, 1, 1, 1, 0, 0, 0, 1, 0, 1, 0, 0,\n",
       "       0, 1, 1, 1, 1, 0, 0, 1, 1, 1, 1, 1, 0, 0, 0, 1, 1, 1, 1, 0, 1, 0,\n",
       "       1, 1, 0, 1, 0, 1, 0, 0, 1, 1, 0, 1, 1, 1, 0, 0, 1, 0])"
      ]
     },
     "metadata": {},
     "output_type": "display_data"
    }
   ],
   "source": [
    "display(yhat_val)"
   ]
  },
  {
   "cell_type": "code",
   "execution_count": 105,
   "metadata": {},
   "outputs": [
    {
     "data": {
      "text/plain": [
       "array([1, 0, 0, 0, 1, 0, 1, 0, 1, 0, 0, 0, 0, 1, 0, 0, 0, 0, 1, 1, 0, 1,\n",
       "       0, 1, 1, 1, 1, 0, 1, 1, 0, 0, 1, 0, 0, 1, 0, 1, 1, 0, 1, 1, 1, 1,\n",
       "       0, 0, 1, 1, 1, 0, 0, 0, 1, 0, 0, 1, 1, 1, 1, 1, 0, 0, 0, 0, 0, 1,\n",
       "       1, 1, 0, 0, 1, 0, 1, 0, 0, 0, 1, 0, 1, 1, 0, 1, 0, 1, 1, 0, 0, 1,\n",
       "       0, 0, 1, 1, 0, 1, 1, 1, 1, 1, 1, 1, 1, 1, 0, 1, 0, 0, 1, 0, 0, 1,\n",
       "       1, 0, 1, 0, 0, 1, 0, 0, 0, 1, 1, 1, 0, 0, 0, 1, 0, 1, 0, 0, 1, 0,\n",
       "       1, 0, 0, 1, 1, 0, 0, 0, 0, 0, 1, 1, 0, 1, 1, 1, 1, 1, 1, 1, 0, 0,\n",
       "       0, 1, 1, 0, 0, 1, 0, 0, 1, 0, 1, 1, 1, 0, 1, 0, 1, 1, 0, 0, 1, 1,\n",
       "       0, 1, 1, 0, 0, 0, 1, 1, 0, 0, 1, 0, 0, 1, 1, 1, 1, 0, 1, 0, 0, 1,\n",
       "       1, 0, 1, 0, 0, 1, 1, 0, 1, 1, 1, 0, 0, 1, 0, 1, 0, 1, 0, 1, 1, 1,\n",
       "       0, 1, 1, 1, 0, 0, 1, 0, 0, 1, 1, 0, 0, 0, 0, 0, 1, 1, 1, 0, 1, 1,\n",
       "       1, 0, 0, 1, 0, 1, 1, 1, 0, 1, 0, 1, 1, 1, 1, 0, 1, 0, 0, 1, 0, 0,\n",
       "       1, 1, 1, 0, 1, 0, 0, 1, 0, 0, 1, 1, 1, 0, 0, 1, 1, 1, 1, 0, 0, 0,\n",
       "       1, 0, 0, 1, 1, 1, 0, 1, 0, 0, 1, 0, 0, 0, 0, 0, 0, 1, 0, 1, 0, 0,\n",
       "       0, 0, 1, 0, 0, 1, 1, 1, 0, 1, 1, 1, 1, 0, 1, 0, 1, 0, 1, 1, 0, 0,\n",
       "       0, 0, 1, 1, 1, 0, 0, 0, 0, 0, 0, 1, 0, 1, 1, 0, 0, 1, 0, 0, 1, 1,\n",
       "       0, 1, 1, 1, 1, 1, 0, 0, 0, 0, 1, 1, 1, 0, 1, 0, 0, 1, 1, 1, 1, 0,\n",
       "       0, 0, 1, 1, 1, 0, 1, 1, 1, 0, 1, 1, 0, 1, 1, 0, 0, 0, 0, 0, 0, 0,\n",
       "       0, 0, 0, 0, 1, 0, 1, 0, 0, 0, 1, 1, 1, 0, 0, 1, 0, 0, 1, 0, 1, 1,\n",
       "       0, 0, 0, 1, 0, 0, 1, 0, 1, 1, 0, 1, 1, 1, 1, 0, 0, 1, 0, 1, 0, 0,\n",
       "       0, 1, 1, 1, 1, 0, 0, 1, 0, 1, 1, 1, 1, 0, 1, 1, 0, 1, 1, 0, 1, 0,\n",
       "       1, 1, 0, 1, 0, 1, 0, 0, 1, 1, 0, 1, 1, 0, 0, 0, 1, 0])"
      ]
     },
     "metadata": {},
     "output_type": "display_data"
    }
   ],
   "source": [
    "display(y_val)"
   ]
  },
  {
   "cell_type": "code",
   "execution_count": 103,
   "metadata": {},
   "outputs": [
    {
     "data": {
      "image/png": "[encoded data removed]",
      "text/plain": [
       "<Figure size 640x480 with 1 Axes>"
      ]
     },
     "metadata": {},
     "output_type": "display_data"
    }
   ],
   "source": [
    "RocCurveDisplay.from_predictions(y_val, yhat_val)\n",
    "plt.show()"
   ]
  }
 ],
 "metadata": {
  "kernelspec": {
   "display_name": "Python 3",
   "language": "python",
   "name": "python3"
  },
  "language_info": {
   "codemirror_mode": {
    "name": "ipython",
    "version": 3
   },
   "file_extension": ".py",
   "mimetype": "text/x-python",
   "name": "python",
   "nbconvert_exporter": "python",
   "pygments_lexer": "ipython3",
   "version": "3.10.12"
  }
 },
 "nbformat": 4,
 "nbformat_minor": 2
}
